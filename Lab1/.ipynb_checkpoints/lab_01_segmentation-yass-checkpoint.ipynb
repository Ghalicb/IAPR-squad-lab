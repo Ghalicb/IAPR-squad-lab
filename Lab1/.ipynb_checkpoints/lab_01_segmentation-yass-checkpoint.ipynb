{
 "cells": [
  {
   "cell_type": "markdown",
   "metadata": {},
   "source": [
    "# [IAPR][iapr]: Lab 1 ‒  Image segmentation\n",
    "\n",
    "\n",
    "**Group ID:** xx\n",
    "\n",
    "**Author 1 (sciper):** Student Name 1 (xxxxx)  \n",
    "**Author 2 (sciper):** Student Name 2 (xxxxx)   \n",
    "**Author 3 (sciper):** Student Name 3 (xxxxx)   \n",
    "\n",
    "**Release date:** 12.03.2021  \n",
    "**Due date:** 26.03.2021 \n",
    "\n",
    "\n",
    "## Important notes\n",
    "\n",
    "The lab assignments are designed to teach practical implementation of the topics presented during class well as preparation for the final project, which is a practical project which ties together the topics of the course. \n",
    "\n",
    "As such, in the lab assignments/final project, unless otherwise specified, you may, if you choose, use external functions from image processing/ML libraries like opencv and sklearn as long as there is sufficient explanation in the lab report. For example, you do not need to implement your own edge detector, etc.\n",
    "\n",
    "**! Before handling back the notebook !** rerun the notebook from scratch `Kernel` > `Restart & Run All`\n",
    "\n",
    "\n",
    "[iapr]: https://github.com/LTS5/iapr"
   ]
  },
  {
   "cell_type": "markdown",
   "metadata": {},
   "source": [
    "---\n",
    "## -1. Imports"
   ]
  },
  {
   "cell_type": "code",
   "execution_count": null,
   "metadata": {},
   "outputs": [],
   "source": [
    "import os\n",
    "import cv2\n",
    "import tarfile\n",
    "import numpy as np\n",
    "\n",
    "from scipy import ndimage as ndi\n",
    "\n",
    "from skimage.filters import rank\n",
    "from skimage.filters import sobel\n",
    "from skimage.morphology import disk\n",
    "from skimage.exposure import histogram\n",
    "from skimage.segmentation import watershed\n",
    "from skimage.feature import peak_local_max"
   ]
  },
  {
   "cell_type": "markdown",
   "metadata": {},
   "source": [
    "---\n",
    "## 0. Extract relevant data\n",
    "We first need to extract the `lab-01-data.tar.gz` archive.\n",
    "To this end, we use the [tarfile] module from the Python standard library.\n",
    "\n",
    "[tarfile]: https://docs.python.org/3.6/library/tarfile.html"
   ]
  },
  {
   "cell_type": "code",
   "execution_count": null,
   "metadata": {},
   "outputs": [],
   "source": [
    "data_base_path = os.path.join(os.pardir, 'data')\n",
    "data_folder = 'lab-01-data'\n",
    "tar_path = os.path.join(data_base_path, data_folder + '.tar.gz')\n",
    "\n",
    "if not os.path.exists(tar_path):\n",
    "    raise Exception('Path to is not valid {}'.format(tar_path))\n",
    "    \n",
    "with tarfile.open(tar_path, mode='r:gz') as tar:\n",
    "    tar.extractall(path=data_base_path)"
   ]
  },
  {
   "cell_type": "markdown",
   "metadata": {},
   "source": [
    "---\n",
    "## Part 1: Brain segmentation\n",
    "\n",
    "Your goal: compute the size of the brain (without the skull) in pixels in a 2D image of a human head taken by Magnetic Resonance Imaging (MRI) using:\n",
    "* Region growing (5 pts)\n",
    "* Contour detection (5 pts)\n",
    "* Additional method of your choice (5 pts)\n",
    "\n",
    "Each section should display the resulting segmenttion as well as the size in pixel of the detected region. Comment each method limitations and/or advantages."
   ]
  },
  {
   "cell_type": "markdown",
   "metadata": {},
   "source": [
    "### 1.1 Brain image visualization"
   ]
  },
  {
   "cell_type": "code",
   "execution_count": null,
   "metadata": {
    "scrolled": false
   },
   "outputs": [],
   "source": [
    "import skimage.io\n",
    "import matplotlib.pyplot as plt\n",
    "%matplotlib inline\n",
    "\n",
    "# Load image\n",
    "data_path = os.path.join(data_base_path, data_folder)\n",
    "brain_im = skimage.io.imread(os.path.join(data_path, 'brain-slice40.tiff'))\n",
    "im_h, im_w = brain_im.shape\n",
    "\n",
    "# Display MRI image\n",
    "fig, ax = plt.subplots(1, 1, figsize=(6, 6))\n",
    "ax.imshow(brain_im, cmap='gray')\n",
    "ax.set_title('MRI brain image ({} px, {} px)'.format(im_h, im_w))\n",
    "ax.axis('off')\n",
    "plt.show()"
   ]
  },
  {
   "cell_type": "code",
   "execution_count": null,
   "metadata": {
    "scrolled": true
   },
   "outputs": [],
   "source": [
    "hist, hist_centers = histogram(brain_im)\n",
    "plt.plot(hist)\n",
    "plt.show()"
   ]
  },
  {
   "cell_type": "code",
   "execution_count": null,
   "metadata": {},
   "outputs": [],
   "source": [
    "brain_im_2 = cv2.equalizeHist(brain_im)\n",
    "\n",
    "# Display MRI image\n",
    "fig, ax = plt.subplots(1, 1, figsize=(6, 6))\n",
    "ax.imshow(brain_im_2, cmap='gray')\n",
    "ax.set_title('MRI brain image ({} px, {} px)'.format(im_h, im_w))\n",
    "ax.axis('off')\n",
    "plt.show()"
   ]
  },
  {
   "cell_type": "code",
   "execution_count": null,
   "metadata": {},
   "outputs": [],
   "source": [
    "hist, hist_centers = histogram(brain_im_2)\n",
    "plt.plot(hist)\n",
    "plt.show()"
   ]
  },
  {
   "cell_type": "code",
   "execution_count": null,
   "metadata": {},
   "outputs": [],
   "source": [
    "gaussian_brain = cv2.GaussianBlur(brain_im,(3,3),1)\n",
    "thresh_brain = cv2.inRange(gaussian_brain,60,90)\n",
    "median_brain = cv2.medianBlur(thresh_brain,3)"
   ]
  },
  {
   "cell_type": "markdown",
   "metadata": {},
   "source": [
    "### 1.2 Region growing (5pts)"
   ]
  },
  {
   "cell_type": "markdown",
   "metadata": {},
   "source": [
    "### 1.3 Contour detection (5pts)"
   ]
  },
  {
   "cell_type": "code",
   "execution_count": null,
   "metadata": {
    "scrolled": true
   },
   "outputs": [],
   "source": [
    "contours, hierarchy = cv2.findContours(median_brain, cv2.RETR_TREE, cv2.CHAIN_APPROX_SIMPLE)"
   ]
  },
  {
   "cell_type": "code",
   "execution_count": null,
   "metadata": {
    "scrolled": false
   },
   "outputs": [],
   "source": [
    "img = skimage.io.imread(os.path.join(data_path, 'brain-slice40.tiff'))\n",
    "\n",
    "contours = sorted(contours, key=cv2.contourArea, reverse=True)\n",
    "\n",
    "fig, ax = plt.subplots(1, 1, figsize=(8, 8))\n",
    "\n",
    "img = cv2.drawContours(img, contours[0], -1, (255,255,255), 2)\n",
    "img = cv2.drawContours(img, contours[1], -1, (255,255,255), 2)\n",
    "img = cv2.drawContours(img, contours[5], -1, (255,255,255), 2)\n",
    "img = cv2.drawContours(img, contours[6], -1, (255,255,255), 2)\n",
    "\n",
    "ax.imshow(img, cmap='gray')\n",
    "ax.axis('image')\n",
    "ax.set_xticks([])\n",
    "ax.set_yticks([])\n",
    "plt.show()"
   ]
  },
  {
   "cell_type": "code",
   "execution_count": null,
   "metadata": {},
   "outputs": [],
   "source": [
    "area = cv2.contourArea(contours[0]) - cv2.contourArea(contours[1])\\\n",
    "            - cv2.contourArea(contours[5]) - cv2.contourArea(contours[6])"
   ]
  },
  {
   "cell_type": "code",
   "execution_count": null,
   "metadata": {
    "scrolled": true
   },
   "outputs": [],
   "source": [
    "print(\"Size in pixels:\", area)"
   ]
  },
  {
   "cell_type": "markdown",
   "metadata": {},
   "source": [
    "### 1.4 Additional method (5pts)"
   ]
  },
  {
   "cell_type": "markdown",
   "metadata": {},
   "source": [
    "#### Watershed, doesn't work"
   ]
  },
  {
   "cell_type": "code",
   "execution_count": null,
   "metadata": {
    "scrolled": false
   },
   "outputs": [],
   "source": [
    "# gradient = sobel(gaussian_brain)\n",
    "gradient = rank.gradient(gaussian_brain, disk(2))\n",
    "\n",
    "# process the watershed\n",
    "markers = rank.gradient(gaussian_brain, disk(5)) < 46\n",
    "markers = ndi.label(markers)[0]\n",
    "\n",
    "labels = watershed(gradient, markers)\n",
    "\n",
    "# display results\n",
    "fig, axes = plt.subplots(nrows=2, ncols=2, figsize=(8, 8),\n",
    "                         sharex=True, sharey=True)\n",
    "ax = axes.ravel()\n",
    "\n",
    "ax[0].imshow(brain_im, cmap=plt.cm.gray)\n",
    "ax[0].set_title(\"Original\")\n",
    "\n",
    "ax[1].imshow(gradient, cmap=plt.cm.nipy_spectral)\n",
    "ax[1].set_title(\"Local Gradient\")\n",
    "\n",
    "ax[2].imshow(median_brain, cmap=plt.cm.nipy_spectral)\n",
    "ax[2].set_title(\"Markers\")\n",
    "\n",
    "ax[3].imshow(brain_im, cmap=plt.cm.gray)\n",
    "ax[3].imshow(labels, cmap=plt.cm.nipy_spectral, alpha=.5)\n",
    "ax[3].set_title(\"Segmented\")\n",
    "\n",
    "plt.show()"
   ]
  },
  {
   "cell_type": "code",
   "execution_count": null,
   "metadata": {
    "scrolled": true
   },
   "outputs": [],
   "source": [
    "areas = {val: np.sum(labels==val) for val in np.unique(labels)}\n",
    "areas = sorted(areas.items(), key=lambda k: k[1], reverse=True) \n",
    "areas[:10]"
   ]
  },
  {
   "cell_type": "code",
   "execution_count": null,
   "metadata": {},
   "outputs": [],
   "source": [
    "mask = np.zeros(labels.shape)\n",
    "mask[labels == 15] = 15\n",
    "\n",
    "# display results\n",
    "fig, axes = plt.subplots(nrows=2, ncols=2, figsize=(8, 8),\n",
    "                         sharex=True, sharey=True)\n",
    "ax = axes.ravel()\n",
    "\n",
    "ax[0].imshow(brain_im, cmap=plt.cm.gray)\n",
    "ax[0].set_title(\"Original\")\n",
    "\n",
    "ax[1].imshow(gradient, cmap=plt.cm.nipy_spectral)\n",
    "ax[1].set_title(\"Local Gradient\")\n",
    "\n",
    "ax[2].imshow(median_brain, cmap=plt.cm.nipy_spectral)\n",
    "ax[2].set_title(\"Markers\")\n",
    "\n",
    "ax[3].imshow(brain_im, cmap=plt.cm.gray)\n",
    "ax[3].imshow(mask, cmap=plt.cm.nipy_spectral, alpha=.5)\n",
    "ax[3].set_title(\"Segmented\")\n",
    "\n",
    "plt.show()"
   ]
  },
  {
   "cell_type": "markdown",
   "metadata": {},
   "source": [
    "---\n",
    "## Part 2: Shape/color segmentation\n",
    "\n",
    "You will find hereafter three pictures taken under three different illuminations, containing some shapes with different colors. We ask you to create a routine to:\n",
    "\n",
    "1. Count the number of shapes of each color (5pts).\n",
    "2. Compute the total area (in pixels) of each color (5pts).\n",
    "\n",
    "Please note that one specific challenge is to be robust to illumination changes. Therefore some kind of intensity normalization should probably be used."
   ]
  },
  {
   "cell_type": "markdown",
   "metadata": {},
   "source": [
    "### 2.1 Visualization"
   ]
  },
  {
   "cell_type": "code",
   "execution_count": null,
   "metadata": {},
   "outputs": [],
   "source": [
    "# Load images\n",
    "im_names = ['arena-shapes-01', 'arena-shapes-02', 'arena-shapes-03']\n",
    "filenames = [os.path.join(data_path, name) + '.png' for name in im_names]\n",
    "ic = skimage.io.imread_collection(filenames)\n",
    "images = skimage.io.concatenate_images(ic)\n",
    "print('Number of images: ', images.shape[0])\n",
    "print('Image size: {}, {} '.format(images.shape[1], images.shape[2]))\n",
    "print('Number of color channels: ', images.shape[-1])"
   ]
  },
  {
   "cell_type": "code",
   "execution_count": null,
   "metadata": {},
   "outputs": [],
   "source": [
    "# Plot images\n",
    "fig, axes = plt.subplots(1, 3, figsize=(12, 12))\n",
    "for ax, im, nm in zip(axes.ravel(), images, im_names):\n",
    "    ax.imshow(im)\n",
    "    ax.axis('off')\n",
    "    ax.set_title(nm)\n",
    "plt.show()"
   ]
  },
  {
   "cell_type": "markdown",
   "metadata": {},
   "source": [
    "### 2.2 Number of shapes of each color (5 pts)"
   ]
  },
  {
   "cell_type": "code",
   "execution_count": null,
   "metadata": {},
   "outputs": [],
   "source": [
    "# Add your implementation and discussion"
   ]
  },
  {
   "cell_type": "markdown",
   "metadata": {},
   "source": [
    "### 2.3 Total area (in pixels) of each color (5 pts)"
   ]
  },
  {
   "cell_type": "code",
   "execution_count": null,
   "metadata": {},
   "outputs": [],
   "source": [
    "# Add your implementation and discussion"
   ]
  }
 ],
 "metadata": {
  "kernelspec": {
   "display_name": "Python 3",
   "language": "python",
   "name": "python3"
  },
  "language_info": {
   "codemirror_mode": {
    "name": "ipython",
    "version": 3
   },
   "file_extension": ".py",
   "mimetype": "text/x-python",
   "name": "python",
   "nbconvert_exporter": "python",
   "pygments_lexer": "ipython3",
   "version": "3.8.8"
  }
 },
 "nbformat": 4,
 "nbformat_minor": 2
}
