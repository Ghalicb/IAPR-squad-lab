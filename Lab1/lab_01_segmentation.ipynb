{
 "cells": [
  {
   "cell_type": "markdown",
   "metadata": {},
   "source": [
    "# [IAPR][iapr]: Lab 1 ‒  Image segmentation\n",
    "\n",
    "\n",
    "**Group ID:** xx\n",
    "\n",
    "**Author 1 (sciper):** Julien Daniel Berger (247179)  \n",
    "**Author 2 (sciper):** Ghali Chraibi (262251)   \n",
    "**Author 3 (sciper):** Yasser Haddad (xxxxx)   \n",
    "\n",
    "**Release date:** 12.03.2021  \n",
    "**Due date:** 26.03.2021 \n",
    "\n",
    "\n",
    "## Important notes\n",
    "\n",
    "The lab assignments are designed to teach practical implementation of the topics presented during class well as preparation for the final project, which is a practical project which ties together the topics of the course. \n",
    "\n",
    "As such, in the lab assignments/final project, unless otherwise specified, you may, if you choose, use external functions from image processing/ML libraries like opencv and sklearn as long as there is sufficient explanation in the lab report. For example, you do not need to implement your own edge detector, etc.\n",
    "\n",
    "**! Before handling back the notebook !** rerun the notebook from scratch `Kernel` > `Restart & Run All`\n",
    "\n",
    "\n",
    "[iapr]: https://github.com/LTS5/iapr"
   ]
  },
  {
   "cell_type": "markdown",
   "metadata": {},
   "source": [
    "## Imports"
   ]
  },
  {
   "cell_type": "code",
   "execution_count": null,
   "metadata": {},
   "outputs": [],
   "source": [
    "import tarfile\n",
    "import os\n",
    "\n",
    "import numpy as np\n",
    "import matplotlib.pyplot as plt\n",
    "%matplotlib inline\n",
    "\n",
    "import cv2\n",
    "import skimage.io\n",
    "import skimage.morphology\n",
    "from skimage import measure, io, img_as_ubyte\n",
    "from skimage.color import label2rgb, rgb2gray\n",
    "from skimage.filters import gaussian, median, threshold_multiotsu, try_all_threshold"
   ]
  },
  {
   "cell_type": "markdown",
   "metadata": {},
   "source": [
    "---\n",
    "## 0. Extract relevant data\n",
    "We first need to extract the `lab-01-data.tar.gz` archive.\n",
    "To this end, we use the [tarfile] module from the Python standard library.\n",
    "\n",
    "[tarfile]: https://docs.python.org/3.6/library/tarfile.html"
   ]
  },
  {
   "cell_type": "code",
   "execution_count": null,
   "metadata": {},
   "outputs": [],
   "source": [
    "data_base_path = \"data\"\n",
    "data_folder = 'lab-01-data'\n",
    "tar_path = os.path.join(data_base_path, data_folder + '.tar.gz')\n",
    "\n",
    "if not os.path.exists(tar_path):\n",
    "    raise Exception('Path to is not valid {}'.format(tar_path))\n",
    "    \n",
    "with tarfile.open(tar_path, mode='r:gz') as tar:\n",
    "    tar.extractall(path=data_base_path)"
   ]
  },
  {
   "cell_type": "markdown",
   "metadata": {},
   "source": [
    "---\n",
    "## Part 1: Brain segmentation\n",
    "\n",
    "Your goal: compute the size of the brain (without the skull) in pixels in a 2D image of a human head taken by Magnetic Resonance Imaging (MRI) using:\n",
    "* Region growing (5 pts)\n",
    "* Contour detection (5 pts)\n",
    "* Additional method of your choice (5 pts)\n",
    "\n",
    "Each section should display the resulting segmenttion as well as the size in pixel of the detected region. Comment each method limitations and/or advantages."
   ]
  },
  {
   "cell_type": "markdown",
   "metadata": {},
   "source": [
    "### 1.1 Brain image visualization"
   ]
  },
  {
   "cell_type": "code",
   "execution_count": null,
   "metadata": {},
   "outputs": [],
   "source": [
    "# Load image\n",
    "data_path = os.path.join(data_base_path, data_folder)\n",
    "brain_im = skimage.io.imread(os.path.join(data_path, 'brain-slice40.tiff'))\n",
    "im_h, im_w = brain_im.shape\n",
    "\n",
    "# Display MRI image\n",
    "fig, ax = plt.subplots(1, 1, figsize=(6, 6))\n",
    "ax.imshow(brain_im, cmap='gray')\n",
    "ax.set_title('MRI brain image ({} px, {} px)'.format(im_h, im_w))\n",
    "ax.axis('off')\n",
    "plt.show()"
   ]
  },
  {
   "cell_type": "markdown",
   "metadata": {},
   "source": [
    "### 1.2 Brain image pre-processing\n",
    "\n",
    "but: \n",
    "- déconnecter le cerveau du reste du crane\n",
    "- expliquer comment t'as trouvé le threshold\n",
    "- afficher l'image median_brain"
   ]
  },
  {
   "cell_type": "code",
   "execution_count": null,
   "metadata": {},
   "outputs": [],
   "source": [
    "# Add a Gaussian blur to remove gaussian noise\n",
    "gaussian_brain = cv2.GaussianBlur(brain_im,(3,3),1)\n",
    "\n",
    "# Apply a threshold to keep only the pixels with an intensity close to the brain\n",
    "thresh_brain = cv2.inRange(gaussian_brain,60,90)\n",
    "\n",
    "# Apply a median blur to remove salt-and-pepper kind noise\n",
    "median_brain = cv2.medianBlur(thresh_brain,3)"
   ]
  },
  {
   "cell_type": "code",
   "execution_count": null,
   "metadata": {},
   "outputs": [],
   "source": [
    "### Visualise the images at each step of the pre-processing\n",
    "fig, ([ax1,ax2], [ax3, ax4]) = plt.subplots(2, 2, figsize=(12, 12))\n",
    "\n",
    "##### TODO : MODIFY TITLE #####\n",
    "\n",
    "# Original image\n",
    "ax1.imshow(brain_im, cmap='gray')\n",
    "ax1.set_title('MRI brain image ({} px, {} px)'.format(im_h, im_w))\n",
    "ax1.axis('off')\n",
    "\n",
    "# Image convolved with a gaussian filter\n",
    "ax2.imshow(gaussian_brain, cmap='gray')\n",
    "ax2.set_title('MRI brain image ({} px, {} px)'.format(im_h, im_w))\n",
    "ax2.axis('off')\n",
    "\n",
    "# Thresholded image\n",
    "ax3.imshow(thresh_brain, cmap='gray')\n",
    "ax3.set_title('MRI brain image ({} px, {} px)'.format(im_h, im_w))\n",
    "ax3.axis('off')\n",
    "\n",
    "# Image convolved with a median filter\n",
    "ax4.imshow(median_brain, cmap='gray')\n",
    "ax4.set_title('MRI brain image ({} px, {} px)'.format(im_h, im_w))\n",
    "ax4.axis('off')\n",
    "\n",
    "plt.show()"
   ]
  },
  {
   "cell_type": "markdown",
   "metadata": {},
   "source": [
    "### 1.3 Region growing (5pts)"
   ]
  },
  {
   "cell_type": "markdown",
   "metadata": {},
   "source": [
    "The function used for the region growing is called measure.label(). It allows to label connected pixels. Two pixels are connected when they are neighbors and have the same value.  "
   ]
  },
  {
   "cell_type": "code",
   "execution_count": null,
   "metadata": {},
   "outputs": [],
   "source": [
    "# Label the different objects \n",
    "labeled_im = measure.label(median_brain, background=None, connectivity=median_brain.ndim)\n",
    "print(\"The image is segmented into {} objects.\".format(len(np.unique(labeled_im))))"
   ]
  },
  {
   "cell_type": "code",
   "execution_count": null,
   "metadata": {},
   "outputs": [],
   "source": [
    "# Objects smaller than 1000 pixels are removed\n",
    "labeled_im = skimage.morphology.remove_small_objects(labeled_im, min_size=1000)\n",
    "print(\"There are {} objects that are bigger than 1000 pixels, The backround and the brain.\"\n",
    "      .format(len(np.unique(labeled_im))))"
   ]
  },
  {
   "cell_type": "code",
   "execution_count": null,
   "metadata": {},
   "outputs": [],
   "source": [
    "# Return an RGB image where color-coded labels are painted over the original image\n",
    "labeled_im_color = label2rgb(labeled_im, image=brain_im, bg_label=0)\n",
    "plt.imshow(labeled_im_color)\n",
    "plt.title(\"Segmented brain\");"
   ]
  },
  {
   "cell_type": "code",
   "execution_count": null,
   "metadata": {},
   "outputs": [],
   "source": [
    "# Compute the size of the labeled brain\n",
    "brain_size1 = measure.regionprops_table(labeled_im, brain_im, properties=[\"area\"])[\"area\"][0]\n",
    "print(\"With the region growing method, we find that the brain has a size of {} pixels\".format(brain_size1))"
   ]
  },
  {
   "cell_type": "markdown",
   "metadata": {},
   "source": [
    "### 1.4 Contour detection (5pts)"
   ]
  },
  {
   "cell_type": "code",
   "execution_count": null,
   "metadata": {},
   "outputs": [],
   "source": [
    "# Find the contours of our brain image\n",
    "contours, hierarchy = cv2.findContours(median_brain, cv2.RETR_TREE, cv2.CHAIN_APPROX_SIMPLE)\n",
    "contours = sorted(contours, key=cv2.contourArea, reverse=True)"
   ]
  },
  {
   "cell_type": "code",
   "execution_count": null,
   "metadata": {},
   "outputs": [],
   "source": [
    "# Visualise the contours\n",
    "fig, ax = plt.subplots(1, 1, figsize=(8, 8))\n",
    "\n",
    "img = cv2.drawContours(brain_im, contours[0], -1, (255,255,255), 2)\n",
    "img = cv2.drawContours(img, contours[1], -1, (255,255,255), 2)\n",
    "img = cv2.drawContours(img, contours[5], -1, (255,255,255), 2)\n",
    "img = cv2.drawContours(img, contours[6], -1, (255,255,255), 2)\n",
    "\n",
    "ax.imshow(img, cmap='gray')\n",
    "ax.axis('image')\n",
    "ax.set_xticks([])\n",
    "ax.set_yticks([])\n",
    "plt.show()"
   ]
  },
  {
   "cell_type": "code",
   "execution_count": null,
   "metadata": {},
   "outputs": [],
   "source": [
    "# Compute the overall area of the brain in pixels\n",
    "area = (cv2.contourArea(contours[0]) - cv2.contourArea(contours[1])\n",
    "        - cv2.contourArea(contours[5]) - cv2.contourArea(contours[6]))\n",
    "\n",
    "print(\"With the contour detection method, we find that the brain has a size of {} pixels\".format(int(area)))"
   ]
  },
  {
   "cell_type": "markdown",
   "metadata": {},
   "source": [
    "### 1.5 Additional method (5pts)"
   ]
  },
  {
   "cell_type": "code",
   "execution_count": null,
   "metadata": {},
   "outputs": [],
   "source": [
    "kern = cv2.getStructuringElement(cv2.MORPH_RECT,(4,4))\n",
    "\n",
    "opening = cv2.morphologyEx(median_brain, cv2.MORPH_OPEN, kern)"
   ]
  },
  {
   "cell_type": "code",
   "execution_count": null,
   "metadata": {},
   "outputs": [],
   "source": [
    "# Display MRI image\n",
    "fig, ax = plt.subplots(1, 1, figsize=(6, 6))\n",
    "ax.imshow(opening, cmap='gray')\n",
    "ax.set_title('MRI brain image ({} px, {} px)'.format(im_h, im_w))\n",
    "ax.axis('off')\n",
    "plt.show()"
   ]
  },
  {
   "cell_type": "code",
   "execution_count": null,
   "metadata": {},
   "outputs": [],
   "source": [
    "sum((opening == 255).flatten())"
   ]
  },
  {
   "cell_type": "markdown",
   "metadata": {},
   "source": [
    "---\n",
    "## Part 2: Shape/color segmentation\n",
    "\n",
    "You will find hereafter three pictures taken under three different illuminations, containing some shapes with different colors. We ask you to create a routine to:\n",
    "\n",
    "1. Count the number of shapes of each color (5pts).\n",
    "2. Compute the total area (in pixels) of each color (5pts).\n",
    "\n",
    "Please note that one specific challenge is to be robust to illumination changes. Therefore some kind of intensity normalization should probably be used."
   ]
  },
  {
   "cell_type": "markdown",
   "metadata": {},
   "source": [
    "### 2.1 Visualization"
   ]
  },
  {
   "cell_type": "code",
   "execution_count": null,
   "metadata": {},
   "outputs": [],
   "source": [
    "# Load images\n",
    "im_names = ['arena-shapes-01', 'arena-shapes-02', 'arena-shapes-03']\n",
    "filenames = [os.path.join(data_path, name) + '.png' for name in im_names]\n",
    "ic = skimage.io.imread_collection(filenames)\n",
    "images = skimage.io.concatenate_images(ic)\n",
    "print('Number of images: ', images.shape[0])\n",
    "print('Image size: {}, {} '.format(images.shape[1], images.shape[2]))\n",
    "print('Number of color channels: ', images.shape[-1])"
   ]
  },
  {
   "cell_type": "code",
   "execution_count": null,
   "metadata": {},
   "outputs": [],
   "source": [
    "# Plot images\n",
    "fig, axes = plt.subplots(1, 3, figsize=(12, 12))\n",
    "for ax, im, nm in zip(axes.ravel(), images, im_names):\n",
    "    ax.imshow(im)\n",
    "    ax.axis('off')\n",
    "    ax.set_title(nm)\n",
    "plt.show()"
   ]
  },
  {
   "cell_type": "markdown",
   "metadata": {},
   "source": [
    "### 2.2 Number of shapes of each color (5 pts)"
   ]
  },
  {
   "cell_type": "code",
   "execution_count": null,
   "metadata": {},
   "outputs": [],
   "source": [
    "def segment_with_kmeans(image, nbr_cluster):\n",
    "    \n",
    "    ### 1. Reformat the image so that it is compatible with the cv.kmeans() function\n",
    "    # Reshape the image to a 2D array: the pixels are flattened and we keep the 3 channels (RGB)\n",
    "    pixel_values = image.reshape((-1, 3))\n",
    "    # Convert the pixels in float\n",
    "    pixel_values0 = np.float32(pixel_values0)\n",
    "    \n",
    "    ### 2. Apply kmeans algorithm on the (reformated) image\n",
    "    # Define a stopping criteria:\n",
    "    #    1. Either we reach an accuracy of epsilon (0.1)\n",
    "    #    2. Or we have performed the specified number of iteration (1000)\n",
    "    criteria = (cv2.TERM_CRITERIA_EPS + cv2.TERM_CRITERIA_MAX_ITER, 1000, 0.1)\n",
    "    _, labels, (centers) = cv2.kmeans(pixel_values, nbr_cluster, None, criteria, 10, cv2.KMEANS_RANDOM_CENTERS)\n",
    "    \n",
    "    ### 3. Transform the data back to an image format\n",
    "    # Convert back the 3 colors (corresponding to the 3 centers) in 8 bit values\n",
    "    centers = np.uint8(centers)\n",
    "    # Convert all pixels to the color of their associated centroids\n",
    "    segmented_image = centers[labels.flatten()]\n",
    "    # Reshape the pixels back to the original image dimension\n",
    "    segmented_image = segmented_image.reshape(image.shape)\n",
    "    \n",
    "    return segmented_image, labels.flatten(), centers"
   ]
  },
  {
   "cell_type": "code",
   "execution_count": null,
   "metadata": {},
   "outputs": [],
   "source": [
    "def count_shapes_per_cluster(segmented_image, )"
   ]
  },
  {
   "cell_type": "code",
   "execution_count": null,
   "metadata": {},
   "outputs": [],
   "source": [
    "Function compte nombre pixel\n",
    "def count_pixels_per_cluster"
   ]
  },
  {
   "cell_type": "code",
   "execution_count": null,
   "metadata": {},
   "outputs": [],
   "source": [
    "#Visualise segmented_imageS"
   ]
  },
  {
   "cell_type": "code",
   "execution_count": null,
   "metadata": {},
   "outputs": [],
   "source": [
    "#Compte le nombre de shape (pour les 3)"
   ]
  },
  {
   "cell_type": "code",
   "execution_count": null,
   "metadata": {},
   "outputs": [],
   "source": [
    "#Compte le nombre de pixels (pour les 3)"
   ]
  },
  {
   "cell_type": "code",
   "execution_count": null,
   "metadata": {},
   "outputs": [],
   "source": [
    "#Discussion : expliquer pour kmeans est un bon choix (aka robust)"
   ]
  },
  {
   "cell_type": "markdown",
   "metadata": {},
   "source": [
    "### 2.3 Total area (in pixels) of each color (5 pts)"
   ]
  },
  {
   "cell_type": "code",
   "execution_count": null,
   "metadata": {},
   "outputs": [],
   "source": [
    "# Add your implementation and discussion"
   ]
  }
 ],
 "metadata": {
  "kernelspec": {
   "display_name": "Python 3",
   "language": "python",
   "name": "python3"
  },
  "language_info": {
   "codemirror_mode": {
    "name": "ipython",
    "version": 3
   },
   "file_extension": ".py",
   "mimetype": "text/x-python",
   "name": "python",
   "nbconvert_exporter": "python",
   "pygments_lexer": "ipython3",
   "version": "3.8.3"
  }
 },
 "nbformat": 4,
 "nbformat_minor": 2
}
