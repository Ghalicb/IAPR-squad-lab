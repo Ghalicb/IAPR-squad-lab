{
 "cells": [
  {
   "cell_type": "markdown",
   "metadata": {},
   "source": [
    "# [IAPR][iapr]: Lab 3 ‒  Classification\n",
    "\n",
    "\n",
    "**Group ID:** 32\n",
    "\n",
    "**Author 1 (sciper):** Julien Daniel Berger (247179)    \n",
    "**Author 2 (sciper):** Ghali Chraibi (262251)     \n",
    "**Author 3 (sciper):** Yasser Haddad (272292)    \n",
    "\n",
    "**Release date:** 23.04.2021  \n",
    "**Due date:** 07.05.2021 \n",
    "\n",
    "\n",
    "## Important notes\n",
    "\n",
    "The lab assignments are designed to teach practical implementation of the topics presented during class well as preparation for the final project, which is a practical project which ties together the topics of the course. \n",
    "\n",
    "As such, in the lab assignments/final project, unless otherwise specified, you may, if you choose, use external functions from image processing/ML libraries like opencv and sklearn as long as there is sufficient explanation in the lab report. For example, you do not need to implement your own edge detector, etc.\n",
    "\n",
    "**! Before handling back the notebook !** rerun the notebook from scratch `Kernel` > `Restart & Run All`\n",
    "\n",
    "\n",
    "[iapr]: https://github.com/LTS5/iapr"
   ]
  },
  {
   "cell_type": "markdown",
   "metadata": {},
   "source": [
    "## Imports"
   ]
  },
  {
   "cell_type": "code",
   "execution_count": 1,
   "metadata": {},
   "outputs": [],
   "source": [
    "import tarfile\n",
    "import os\n",
    "import gzip\n",
    "\n",
    "import numpy as np\n",
    "import scipy.io\n",
    "import matplotlib.pyplot as plt\n",
    "\n",
    "import torch\n",
    "import torch.nn as nn\n",
    "import torch.nn.functional as F\n",
    "from torch.utils import data\n",
    "from torchvision.transforms import ToTensor"
   ]
  },
  {
   "cell_type": "markdown",
   "metadata": {},
   "source": [
    "## Extract relevant data\n",
    "We first need to extract the `lab-03-data.tar.gz` archive.\n",
    "To this end, we use the [tarfile] module from the Python standard library.\n",
    "\n",
    "[tarfile]: https://docs.python.org/3.6/library/tarfile.html"
   ]
  },
  {
   "cell_type": "code",
   "execution_count": 2,
   "metadata": {},
   "outputs": [],
   "source": [
    "data_base_path = 'data'\n",
    "data_folder = 'lab-03-data'\n",
    "tar_path = os.path.join(data_base_path, data_folder + '.tar.gz')\n",
    "with tarfile.open(tar_path, mode='r:gz') as tar:\n",
    "    tar.extractall(path=data_base_path)"
   ]
  },
  {
   "cell_type": "markdown",
   "metadata": {},
   "source": [
    "---\n",
    "## Part 1\n",
    "In this part, we will study classification based on the data available in the Matlab file `classification.mat` that you will under `lab-03-data/part1`.\n",
    "There are 3 data sets in this file, each one being a training set for a given class.\n",
    "They are contained in variables `a`, `b` and `c`.\n",
    "\n",
    "**Note**: we can load Matlab files using the [scipy.io] module.\n",
    "\n",
    "[scipy.io]: https://docs.scipy.org/doc/scipy/reference/io.html"
   ]
  },
  {
   "cell_type": "code",
   "execution_count": 3,
   "metadata": {},
   "outputs": [
    {
     "name": "stdout",
     "output_type": "stream",
     "text": [
      "(200, 2) (200, 2) (200, 2)\n"
     ]
    }
   ],
   "source": [
    "data_part1_path = os.path.join(data_base_path, data_folder, 'part1', 'classification.mat')\n",
    "matfile = scipy.io.loadmat(data_part1_path)\n",
    "a = matfile['a']\n",
    "b = matfile['b']\n",
    "c = matfile['c']\n",
    "\n",
    "print(a.shape, b.shape, c.shape)"
   ]
  },
  {
   "cell_type": "markdown",
   "metadata": {},
   "source": [
    "### 1.1 Bayes method (5 pts)\n",
    "Using the Bayes method, give the analytical expression of the separation curves between those three classes.\n",
    "Do reasonable hypotheses about the distributions of those classes and estimate the corresponding parameters based on the given training sets.\n",
    "Draw those curves on a plot, together with the training data.\n",
    "For simplicity reasons, round the estimated parameters to the closest integer value."
   ]
  },
  {
   "cell_type": "code",
   "execution_count": 4,
   "metadata": {},
   "outputs": [],
   "source": [
    "# Add your implementation and discussion"
   ]
  },
  {
   "cell_type": "markdown",
   "metadata": {},
   "source": [
    "### 1.2 Mahalanobis distance (5 pts)\n",
    "For classes `a` and `b`, give the expression of the Mahalanobis distance used to classify a point in class `a` or `b`, and verify the obtained classification, in comparison with the \"complete\" Bayes classification, for a few points of the plane."
   ]
  },
  {
   "cell_type": "code",
   "execution_count": 5,
   "metadata": {},
   "outputs": [],
   "source": [
    "# Add your implementation and discussion"
   ]
  },
  {
   "cell_type": "markdown",
   "metadata": {},
   "source": [
    "---\n",
    "\n",
    "## Part 2\n",
    "In this part, we aim to classify digits using the complete version of MNIST digits dataset.\n",
    "The dataset consists of 60'000 training images and 10'000 test images of handwritten digits.\n",
    "Each image has size 28x28, and has assigned a label from zero to nine, denoting the digits value.\n",
    "Given this data, your task is to construct a Multilayer Perceptron (MLP) for supervised training and classification and evaluate it on the test images.\n",
    "\n",
    "Download the MNIST dataset (all 4 files) from http://yann.lecun.com/exdb/mnist/ under `lab-03-data/part2`.\n",
    "You can then use the script provided below to extract and load training and testing images in Python. \n",
    "\n",
    "**! Warning**: When the lab was created the official MNIST repo was down, if it is still the case please use https://github.com/mkolod/MNIST."
   ]
  },
  {
   "cell_type": "markdown",
   "metadata": {},
   "source": [
    "### 2.1 Dataset loading\n",
    "Here we first declare the methods `extract_data` and `extract_labels` so that we can reuse them later in the code.\n",
    "Then we extract both the data and corresponding labels, and plot randomly some images and corresponding labels of the training set."
   ]
  },
  {
   "cell_type": "code",
   "execution_count": 6,
   "metadata": {},
   "outputs": [],
   "source": [
    "def extract_data(filename, image_shape, image_number):\n",
    "    with gzip.open(filename) as bytestream:\n",
    "        bytestream.read(16)\n",
    "        buf = bytestream.read(np.prod(image_shape) * image_number)\n",
    "        data = np.frombuffer(buf, dtype=np.uint8).astype(np.float32)\n",
    "        data = data.reshape(image_number, image_shape[0], image_shape[1])\n",
    "    return data\n",
    "\n",
    "\n",
    "def extract_labels(filename, image_number):\n",
    "    with gzip.open(filename) as bytestream:\n",
    "        bytestream.read(8)\n",
    "        buf = bytestream.read(1 * image_number)\n",
    "        labels = np.frombuffer(buf, dtype=np.uint8).astype(np.int64)\n",
    "    return labels"
   ]
  },
  {
   "cell_type": "code",
   "execution_count": 7,
   "metadata": {},
   "outputs": [],
   "source": [
    "image_shape = (28, 28)\n",
    "train_set_size = 60000\n",
    "test_set_size = 10000\n",
    "\n",
    "data_part2_folder = os.path.join(data_base_path, data_folder, 'part2')\n",
    "\n",
    "train_images_path = os.path.join(data_part2_folder, 'train-images-idx3-ubyte.gz')\n",
    "train_labels_path = os.path.join(data_part2_folder, 'train-labels-idx1-ubyte.gz')\n",
    "test_images_path = os.path.join(data_part2_folder, 't10k-images-idx3-ubyte.gz')\n",
    "test_labels_path = os.path.join(data_part2_folder, 't10k-labels-idx1-ubyte.gz')\n",
    "\n",
    "train_images = extract_data(train_images_path, image_shape, train_set_size)\n",
    "test_images = extract_data(test_images_path, image_shape, test_set_size)\n",
    "train_labels = extract_labels(train_labels_path, train_set_size)\n",
    "test_labels = extract_labels(test_labels_path, test_set_size)"
   ]
  },
  {
   "cell_type": "code",
   "execution_count": 8,
   "metadata": {},
   "outputs": [
    {
     "data": {
      "image/png": "[encoded data removed]",
      "text/plain": [
       "<Figure size 864x216 with 10 Axes>"
      ]
     },
     "metadata": {
      "needs_background": "light"
     },
     "output_type": "display_data"
    }
   ],
   "source": [
    "prng = np.random.RandomState(seed=123456789)  # seed to always re-draw the same distribution\n",
    "plt_ind = prng.randint(low=0, high=train_set_size, size=10)\n",
    "\n",
    "fig, axes = plt.subplots(1, 10, figsize=(12, 3))\n",
    "for ax, im, lb in zip(axes, train_images[plt_ind], train_labels[plt_ind]):\n",
    "    ax.imshow(im, cmap='gray')\n",
    "    ax.axis('off')\n",
    "    ax.set_title(lb)"
   ]
  },
  {
   "cell_type": "markdown",
   "metadata": {},
   "source": [
    "### 2.2 MLP (10 pts)\n",
    "\n",
    "To create an MLP you are free to choose any library.\n",
    "In case you don't have any preferences, we encourage you to use the [scikit-learn] package; it is a simple, efficient and free tool for data analysis and machine learning.\n",
    "In this [link][sklearn-example], you can find a basic example to see how to create and train an MLP using [scikit-learn].\n",
    "Your network should have the following properties:\n",
    "* Input `x`: 784-dimensional (i.e. 784 visible units representing the flattened 28x28 pixel images).\n",
    "* 100 hidden units `h`.\n",
    "* 10 output units `y`, i.e. the labels, with a value close to one in the i-th class representing a high probability of the input representing the digit `i`.\n",
    "\n",
    "If you need additional examples you can borrow some code from image classification tutorials.\n",
    "However, we recommend that you construct a minimal version of the network on your own to gain better insights.\n",
    "\n",
    "[scikit-learn]: http://scikit-learn.org/stable/index.html\n",
    "[sklearn-example]: http://scikit-learn.org/stable/modules/neural_networks_supervised.html"
   ]
  },
  {
   "cell_type": "code",
   "execution_count": 9,
   "metadata": {},
   "outputs": [],
   "source": [
    "class MNISTDataset(data.Dataset):\n",
    "    def __init__(self, imgs, labels, transform):\n",
    "        self.imgs = imgs\n",
    "        self.labels = labels\n",
    "        self.transform = transform\n",
    "\n",
    "    def __len__(self):\n",
    "        return len(self.imgs)\n",
    "\n",
    "    def __getitem__(self, idx):\n",
    "        data = self.imgs[idx]\n",
    "        if self.transform:\n",
    "            data = self.transform(data)\n",
    "        return (data, self.labels[idx])"
   ]
  },
  {
   "cell_type": "code",
   "execution_count": 10,
   "metadata": {},
   "outputs": [],
   "source": [
    "# Parameters of our DataLoader\n",
    "params = {'batch_size': 128,\n",
    "          'shuffle': True}\n",
    "\n",
    "# Creation of a train/test dataset & dataloader\n",
    "ds_train = MNISTDataset(train_images, train_labels, transform=ToTensor())\n",
    "dl_train = data.DataLoader(ds_train, **params)\n",
    "\n",
    "ds_test = MNISTDataset(test_images, test_labels, transform=ToTensor())\n",
    "dl_test = data.DataLoader(ds_test, **params)"
   ]
  },
  {
   "cell_type": "code",
   "execution_count": 11,
   "metadata": {},
   "outputs": [],
   "source": [
    "# Definition and instanciation of our network\n",
    "class Network(nn.Module):\n",
    "    \n",
    "    def __init__(self):\n",
    "        super(Network, self).__init__()\n",
    "        self.flatten = nn.Flatten()\n",
    "        self.fc1 = nn.Linear(784, 100)\n",
    "        self.fc2 = nn.Linear(100, 10)    \n",
    "        \n",
    "    def forward(self, x):\n",
    "        x = self.flatten(x)\n",
    "        x = F.relu(self.fc1(x))\n",
    "        return self.fc2(x)\n",
    "    \n",
    "net = Network()"
   ]
  },
  {
   "cell_type": "code",
   "execution_count": 12,
   "metadata": {},
   "outputs": [],
   "source": [
    "# Loss function\n",
    "criterion = nn.CrossEntropyLoss()"
   ]
  },
  {
   "cell_type": "code",
   "execution_count": 13,
   "metadata": {},
   "outputs": [],
   "source": [
    "# Optimizer\n",
    "learning_rate = 1e-4\n",
    "opt = torch.optim.Adam(net.parameters(), lr=learning_rate)"
   ]
  },
  {
   "cell_type": "code",
   "execution_count": 14,
   "metadata": {},
   "outputs": [],
   "source": [
    "def train_loop(dataloader, model, loss_func, optimizer):\n",
    "    for it, (X, y) in enumerate(dataloader):\n",
    "        \n",
    "        # Compute prediction and loss\n",
    "        pred = model(X)            # Forward pass\n",
    "        loss = loss_func(pred, y)  # Compute the loss\n",
    "\n",
    "        # Backpropagation\n",
    "        optimizer.zero_grad()      # Reinitialise the accumulated gradients\n",
    "        loss.backward()            # Recompute the new gradients\n",
    "        optimizer.step()           # Update the parameters of the model\n",
    "        \n",
    "        # Compute the accuracy on this batch of images\n",
    "        accuracy_tr = (pred.argmax(1) == y).type(torch.float).sum().item() / len(X)\n",
    "        \n",
    "        if (it+1 == len(dataloader)):\n",
    "            print('It {}/{}:\\n Loss train: {:.5f}, Accuracy train: {:.2%}'.\n",
    "                  format(it + 1, len(dataloader), loss, accuracy_tr, end=''))\n",
    "    print()"
   ]
  },
  {
   "cell_type": "code",
   "execution_count": 15,
   "metadata": {},
   "outputs": [],
   "source": [
    "def test_loop(dataloader, model, loss_func):\n",
    "    size = len(dataloader.dataset)\n",
    "    test_loss, accuracy = 0, 0\n",
    "\n",
    "    with torch.no_grad():\n",
    "        for X, y in dataloader:\n",
    "            pred = model(X)\n",
    "            test_loss += loss_func(pred, y).item()\n",
    "            accuracy += (pred.argmax(1) == y).type(torch.float).sum().item()\n",
    "\n",
    "    # Statistics over all the batchs\n",
    "    test_loss /= size\n",
    "    accuracy /= size    \n",
    "    \n",
    "    print(f\"Test Error: \\n Avg loss: {test_loss:.5f}, Accuracy: {accuracy:.2%} \\n\")"
   ]
  },
  {
   "cell_type": "code",
   "execution_count": 16,
   "metadata": {},
   "outputs": [
    {
     "name": "stdout",
     "output_type": "stream",
     "text": [
      "Epoch 1\n",
      "-------------------------------\n",
      "It 469/469:\n",
      " Loss train: 0.40838, Accuracy train: 90.62%\n",
      "\n",
      "Test Error: \n",
      " Avg loss: 0.00585, Accuracy: 89.16% \n",
      "\n",
      "Epoch 2\n",
      "-------------------------------\n",
      "It 469/469:\n",
      " Loss train: 0.29065, Accuracy train: 90.62%\n",
      "\n",
      "Test Error: \n",
      " Avg loss: 0.00390, Accuracy: 91.18% \n",
      "\n",
      "Epoch 3\n",
      "-------------------------------\n",
      "It 469/469:\n",
      " Loss train: 0.34859, Accuracy train: 93.75%\n",
      "\n",
      "Test Error: \n",
      " Avg loss: 0.00314, Accuracy: 92.48% \n",
      "\n",
      "Epoch 4\n",
      "-------------------------------\n",
      "It 469/469:\n",
      " Loss train: 0.50323, Accuracy train: 91.67%\n",
      "\n",
      "Test Error: \n",
      " Avg loss: 0.00252, Accuracy: 93.69% \n",
      "\n",
      "Epoch 5\n",
      "-------------------------------\n",
      "It 469/469:\n",
      " Loss train: 0.22816, Accuracy train: 96.88%\n",
      "\n",
      "Test Error: \n",
      " Avg loss: 0.00226, Accuracy: 94.18% \n",
      "\n",
      "Epoch 6\n",
      "-------------------------------\n",
      "It 469/469:\n",
      " Loss train: 0.33291, Accuracy train: 92.71%\n",
      "\n",
      "Test Error: \n",
      " Avg loss: 0.00204, Accuracy: 94.79% \n",
      "\n",
      "Epoch 7\n",
      "-------------------------------\n",
      "It 469/469:\n",
      " Loss train: 0.12119, Accuracy train: 95.83%\n",
      "\n",
      "Test Error: \n",
      " Avg loss: 0.00195, Accuracy: 95.16% \n",
      "\n",
      "Epoch 8\n",
      "-------------------------------\n",
      "It 469/469:\n",
      " Loss train: 0.07861, Accuracy train: 97.92%\n",
      "\n",
      "Test Error: \n",
      " Avg loss: 0.00190, Accuracy: 95.25% \n",
      "\n",
      "Epoch 9\n",
      "-------------------------------\n",
      "It 469/469:\n",
      " Loss train: 0.01255, Accuracy train: 100.00%\n",
      "\n",
      "Test Error: \n",
      " Avg loss: 0.00180, Accuracy: 95.52% \n",
      "\n",
      "Epoch 10\n",
      "-------------------------------\n",
      "It 469/469:\n",
      " Loss train: 0.06285, Accuracy train: 96.88%\n",
      "\n",
      "Test Error: \n",
      " Avg loss: 0.00179, Accuracy: 95.64% \n",
      "\n",
      "Epoch 11\n",
      "-------------------------------\n",
      "It 469/469:\n",
      " Loss train: 0.01835, Accuracy train: 98.96%\n",
      "\n",
      "Test Error: \n",
      " Avg loss: 0.00171, Accuracy: 95.80% \n",
      "\n",
      "Epoch 12\n",
      "-------------------------------\n",
      "It 469/469:\n",
      " Loss train: 0.02543, Accuracy train: 97.92%\n",
      "\n",
      "Test Error: \n",
      " Avg loss: 0.00162, Accuracy: 96.30% \n",
      "\n",
      "Epoch 13\n",
      "-------------------------------\n",
      "It 469/469:\n",
      " Loss train: 0.03025, Accuracy train: 98.96%\n",
      "\n",
      "Test Error: \n",
      " Avg loss: 0.00167, Accuracy: 96.04% \n",
      "\n",
      "Epoch 14\n",
      "-------------------------------\n",
      "It 469/469:\n",
      " Loss train: 0.01718, Accuracy train: 98.96%\n",
      "\n",
      "Test Error: \n",
      " Avg loss: 0.00154, Accuracy: 96.46% \n",
      "\n",
      "Epoch 15\n",
      "-------------------------------\n",
      "It 469/469:\n",
      " Loss train: 0.00892, Accuracy train: 100.00%\n",
      "\n",
      "Test Error: \n",
      " Avg loss: 0.00159, Accuracy: 96.50% \n",
      "\n"
     ]
    }
   ],
   "source": [
    "epochs = 15\n",
    "\n",
    "# Train & test our model until convergence (here 15 epochs is sufficient as we don't have too many parameters)\n",
    "for e in range(epochs):\n",
    "    print(f\"Epoch {e+1}\\n-------------------------------\")\n",
    "    train_loop(dl_train, net, criterion, opt)\n",
    "    test_loop(dl_test, net, criterion)"
   ]
  },
  {
   "cell_type": "code",
   "execution_count": 31,
   "metadata": {},
   "outputs": [
    {
     "data": {
      "image/png": "[encoded data removed]",
      "text/plain": [
       "<Figure size 864x216 with 10 Axes>"
      ]
     },
     "metadata": {
      "needs_background": "light"
     },
     "output_type": "display_data"
    }
   ],
   "source": [
    "for X, y in dl_test:\n",
    "    # Predict the labels of one batch of images\n",
    "    pred = net(X)\n",
    "    labels = pred.argmax(1)\n",
    "\n",
    "    # Plot some arbitrary pair of (image, predicted label) to see our model in action\n",
    "    fig, axes = plt.subplots(1, 10, figsize=(12, 3))\n",
    "    for ax, idx in zip(axes, range(10)):\n",
    "        ax.imshow(X[idx, 0], cmap='gray')\n",
    "        ax.axis('off')\n",
    "        ax.set_title(labels[idx].item())\n",
    "    plt.show()\n",
    "    break"
   ]
  },
  {
   "cell_type": "markdown",
   "metadata": {},
   "source": [
    "#### Discussion"
   ]
  },
  {
   "cell_type": "markdown",
   "metadata": {},
   "source": [
    "Using a simple Multilayer Perceptron model we obtain an accuracy of TODO %\n",
    "\n",
    "To improve the accuracy, we could:\n",
    "- add hidden layers (1 or 2, but not too much otherwise we would have too many parameters to train in comparison to the data available).\n",
    "- use a CNN (Convolutional Neural Network) which uses the spatial informations of the images and therefore is more suited for a pattern recognition task. Note that using only fully connected layers, we don't have a proper way to extract the features from our digits as a CNN would and the process is rather blackboxed.  \n",
    "\n",
    "To train the best model using the same simple architecture, we tested several hyperparameters (the size of the batches, the number of epochs and the learning rate).   \n",
    "We observed that the model converged after 15 epochs, using a learning rate of 1e-4. Different values of learning rate gave us often some very bad accuracy, the model converging too slowly or diverging. The worst we obtained was around 10% which corresponds to a random guess (as we have 10 possible digits)."
   ]
  }
 ],
 "metadata": {
  "kernelspec": {
   "display_name": "Python 3",
   "language": "python",
   "name": "python3"
  },
  "language_info": {
   "codemirror_mode": {
    "name": "ipython",
    "version": 3
   },
   "file_extension": ".py",
   "mimetype": "text/x-python",
   "name": "python",
   "nbconvert_exporter": "python",
   "pygments_lexer": "ipython3",
   "version": "3.8.3"
  }
 },
 "nbformat": 4,
 "nbformat_minor": 2
}
