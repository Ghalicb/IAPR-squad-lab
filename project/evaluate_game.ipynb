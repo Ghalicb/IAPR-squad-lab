{
 "cells": [
  {
   "cell_type": "code",
   "execution_count": 1,
   "id": "solved-omega",
   "metadata": {},
   "outputs": [],
   "source": [
    "from utils_classification import *\n",
    "from utils import evaluate_game, print_results"
   ]
  },
  {
   "cell_type": "code",
   "execution_count": 2,
   "id": "certified-object",
   "metadata": {},
   "outputs": [],
   "source": [
    "filepath_task0 = os.path.join('data', 'classification_data', 'all_games_classification_series_mnist.pickle')\n",
    "df_task0, df_numbers_only, df_not_numbers = load_segmentation_task0(filepath_task0)"
   ]
  },
  {
   "cell_type": "code",
   "execution_count": 4,
   "id": "willing-verification",
   "metadata": {},
   "outputs": [],
   "source": [
    "games_imgs = np.array([v for v in df_task0.image.apply(img_as_ubyte)])"
   ]
  },
  {
   "cell_type": "code",
   "execution_count": 10,
   "id": "descending-pendant",
   "metadata": {},
   "outputs": [],
   "source": [
    "preds_all_games = predict_rank(games_imgs, Net, \"data/models/model.pt\")"
   ]
  },
  {
   "cell_type": "code",
   "execution_count": 27,
   "id": "round-market",
   "metadata": {},
   "outputs": [],
   "source": [
    "labels = {v: str(v) for v in range(10)}\n",
    "labels[10] = 'J'\n",
    "labels[11] = 'Q'\n",
    "labels[12] = 'K'\n",
    "\n",
    "def get_pred_games(preds_all_games, nb_games):\n",
    "    preds = {}\n",
    "    step = 4*13\n",
    "    for i in range(nb_games):\n",
    "        preds[f'game{i+1}'] = np.array([labels[v] for v in preds_all_games[step*i:step*(i+1)].numpy()]).reshape((13, 4))\n",
    "    \n",
    "    return preds\n",
    "\n",
    "preds = get_pred_games(preds_all_games, 7)"
   ]
  },
  {
   "cell_type": "code",
   "execution_count": 28,
   "id": "round-picnic",
   "metadata": {},
   "outputs": [
    {
     "name": "stdout",
     "output_type": "stream",
     "text": [
      "Game 1 accuracy: 0.788\n",
      "Game 2 accuracy: 0.808\n",
      "Game 3 accuracy: 0.865\n",
      "Game 4 accuracy: 0.827\n",
      "Game 5 accuracy: 0.885\n",
      "Game 6 accuracy: 0.731\n",
      "Game 7 accuracy: 0.827\n"
     ]
    }
   ],
   "source": [
    "def get_accuracy_simple_games(preds, nb_games):\n",
    "    for i in range(nb_games):\n",
    "        pred_rank = preds[f'game{i+1}']\n",
    "        cgt = pd.read_csv(f'data/train_games/game{i+1}/game{i+1}.csv', index_col=0)\n",
    "        cgt_rank = cgt[['P1', 'P2', 'P3', 'P4']].values\n",
    "        # Compute accuracy of prediction\n",
    "        acc_standard = evaluate_game(pred_rank, cgt_rank, mode_advanced=False)\n",
    "        print(\"Game {} accuracy: {:.3f}\".format(i+1, acc_standard))\n",
    "        \n",
    "get_accuracy_simple_games(preds, 7)"
   ]
  },
  {
   "cell_type": "code",
   "execution_count": 29,
   "id": "chinese-language",
   "metadata": {},
   "outputs": [
    {
     "data": {
      "text/html": [
       "<div>\n",
       "<style scoped>\n",
       "    .dataframe tbody tr th:only-of-type {\n",
       "        vertical-align: middle;\n",
       "    }\n",
       "\n",
       "    .dataframe tbody tr th {\n",
       "        vertical-align: top;\n",
       "    }\n",
       "\n",
       "    .dataframe thead th {\n",
       "        text-align: right;\n",
       "    }\n",
       "</style>\n",
       "<table border=\"1\" class=\"dataframe\">\n",
       "  <thead>\n",
       "    <tr style=\"text-align: right;\">\n",
       "      <th></th>\n",
       "      <th>0</th>\n",
       "      <th>1</th>\n",
       "      <th>2</th>\n",
       "      <th>3</th>\n",
       "      <th>4</th>\n",
       "      <th>5</th>\n",
       "    </tr>\n",
       "  </thead>\n",
       "  <tbody>\n",
       "    <tr>\n",
       "      <th>0</th>\n",
       "      <td>0</td>\n",
       "      <td>1</td>\n",
       "      <td>2</td>\n",
       "      <td>3</td>\n",
       "      <td>4</td>\n",
       "      <td>5</td>\n",
       "    </tr>\n",
       "    <tr>\n",
       "      <th>1</th>\n",
       "      <td>0</td>\n",
       "      <td>1</td>\n",
       "      <td>2</td>\n",
       "      <td>3</td>\n",
       "      <td>4</td>\n",
       "      <td>5</td>\n",
       "    </tr>\n",
       "    <tr>\n",
       "      <th>2</th>\n",
       "      <td>0</td>\n",
       "      <td>1</td>\n",
       "      <td>2</td>\n",
       "      <td>3</td>\n",
       "      <td>4</td>\n",
       "      <td>5</td>\n",
       "    </tr>\n",
       "  </tbody>\n",
       "</table>\n",
       "</div>"
      ],
      "text/plain": [
       "   0  1  2  3  4  5\n",
       "0  0  1  2  3  4  5\n",
       "1  0  1  2  3  4  5\n",
       "2  0  1  2  3  4  5"
      ]
     },
     "execution_count": 29,
     "metadata": {},
     "output_type": "execute_result"
    }
   ],
   "source": [
    "l = np.array([[0, 1, 2, 3, 4, 5], [0, 1, 2, 3, 4, 5], [0, 1, 2, 3, 4, 5]])\n",
    "pd.DataFrame(l)"
   ]
  },
  {
   "cell_type": "code",
   "execution_count": null,
   "id": "professional-special",
   "metadata": {},
   "outputs": [],
   "source": [
    "# tuples of size 6\n",
    "# each \n",
    "\n",
    "def tuples_suit_to_df(list_tuple, value_column):\n",
    "    df = pd.DataFrame"
   ]
  }
 ],
 "metadata": {
  "kernelspec": {
   "display_name": "Python [conda env:iapr] *",
   "language": "python",
   "name": "conda-env-iapr-py"
  },
  "language_info": {
   "codemirror_mode": {
    "name": "ipython",
    "version": 3
   },
   "file_extension": ".py",
   "mimetype": "text/x-python",
   "name": "python",
   "nbconvert_exporter": "python",
   "pygments_lexer": "ipython3",
   "version": "3.8.8"
  }
 },
 "nbformat": 4,
 "nbformat_minor": 5
}
