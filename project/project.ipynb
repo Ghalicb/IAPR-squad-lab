{
 "cells": [
  {
   "cell_type": "markdown",
   "metadata": {},
   "source": [
    "# [IAPR][iapr]: Project\n",
    "\n",
    "\n",
    "**Group ID:** 32\n",
    "\n",
    "**Author 1 (sciper):** Ghali CHRAIBI (262251)  \n",
    "**Author 2 (sciper):** Yann Yasser HADDAD (272292)   \n",
    "**Author 3 (sciper):** Julien BERGER (xxxxx)   \n",
    "\n",
    "**Release date:** 07.05.2021  \n",
    "**Due date:** 03.06.2021 (23h59)\n",
    "\n",
    "\n",
    "## Important notes\n",
    "\n",
    "The lab assignments are designed to teach practical implementation of the topics presented during class as well as preparation for the final project, which is a practical project which ties together the topics of the course. \n",
    "\n",
    "As such, in the lab assignments/final project, unless otherwise specified, you may, if you choose, use external functions from image processing/ML libraries like opencv and sklearn as long as there is sufficient explanation in the lab report. For example, you do not need to implement your own edge detector, etc.\n",
    "\n",
    "**! Before handling back the notebook !** rerun the notebook from scratch `Kernel` > `Restart & Run All`\n",
    "\n",
    "\n",
    "[iapr]: https://github.com/LTS5/iapr"
   ]
  },
  {
   "cell_type": "markdown",
   "metadata": {},
   "source": [
    "## Imports "
   ]
  },
  {
   "cell_type": "code",
   "execution_count": 1,
   "metadata": {},
   "outputs": [],
   "source": [
    "import numpy as np\n",
    "import pandas as pd\n",
    "import matplotlib.pyplot as plt\n",
    "\n",
    "import cv2\n",
    "import skimage.io\n",
    "from skimage import img_as_ubyte\n",
    "\n",
    "from utils import rgb_to_hsv, split_img, plot_histogram, print_results, evaluate_game"
   ]
  },
  {
   "cell_type": "markdown",
   "metadata": {},
   "source": [
    "---\n",
    "## 0. Introduction\n",
    "\n",
    "An anonymous researcher that we will name Lann Yecun is convinced that the MNIST dataset still has great potential. He decides to create a playing card game based on MNIST digits and different figures. The game uses a standard 52 card deck which is composed of four French suits/colours: clubs (&#9827;), diamonds (&#9830;), hearts (&#9829;) and spades (&#9824;). Each suit includes 10 digit cards (from 0 to 9) and 3 figures (Jack-J, Queen-Q, and King-K). Here is an example of the 13 spade cards with their name.\n",
    "\n",
    "\n",
    "<img src=\"data/media/example_cards.png\">\n",
    "\n",
    "\n",
    "We can find the same arrangement of cards for the clubs, diamonds, and hearts. \n",
    "\n",
    "\n",
    "## 1. Rules\n",
    "\n",
    "\n",
    "### 1.1 Standard\n",
    "\n",
    "The rules are based on the simple battle card game. The goal of the game is to win as many points as possible. Each turn, the 4 players play a card in front of them. As displayed in the example below. The rules are the following:\n",
    "\n",
    "- The cards are ranked in the following order : **0 < 1 < 2 < 3 < 4 < 5 < 6 < 7 < 8 < 9 < J < Q < K**.\n",
    "- The player with the highest-ranked card wins the round and obtains **1 point**. \n",
    "- If the highest-ranked card is the same for multiple players we call it a draw and all winners get **1 points**. \n",
    "- In this configuration, we **do not** take into account the suits. The game only rely on the card ranks. \n",
    "- The game lasts 13 rounds. After the last round, the winner is the player that has the largest number of points. \n",
    "- In the example below Player 1 wins the round with his Queen ( 0 < 8 < J < **Q**).\n",
    "\n",
    "If two or more players have the same number of points they share the victory.\n",
    "\n",
    "### 1.2 Advanced\n",
    "\n",
    "The advanced rules take into account the suits. \n",
    "\n",
    "- At the beginning of **each round** a random player is designated as the **dealer**. The dealer places a green token with the letter *D* next to him (player 1 in the example below).\n",
    "- Only the cards that belong to the same suit as the one of the dealer are considered valid. In the example below, only Player 4 is competing with Player 1 as spade was selected by the dealer (e.i., Player 1). Player 2 and 3 are out for this round. Player 1 wins the round and **1 point** with the Queen ( 0&#9824; < **Q&#9824;**).\n",
    "- There cannot be any draw between the players as they are not any card duplicates.\n",
    "- We use the same system as the standard method to count the points.\n",
    "\n",
    "\n",
    "<img src=\"data/media/example_round.jpg\">\n",
    "\n",
    "\n",
    "### 1.3 Notes\n",
    "\n",
    "- The orientation of the card is linked to the position of the player around the table. For instance, to read the card of the 3rd player you will have to rotate it by 180°.\n",
    "- The **digits** always **face** the players around the table. The figures can have random orientations.\n",
    "- Player 1 **always** seats south of the table. The players are **always** ordered counter-clockwise as in the example. \n",
    "- The dealers can change between the rounds and games.\n",
    "- Some cards **might** apear multiple times per game.\n",
    "- Pictures are always taken from rougthly the same altitude.\n",
    "- The digits from the training set **would not** be the same as the one of the testing set."
   ]
  },
  {
   "cell_type": "markdown",
   "metadata": {},
   "source": [
    "---\n",
    "## 2. Data\n",
    "\n",
    "You will be given the images of 7 games that were played ([download link](https://drive.google.com/drive/folders/1fEy27wnJsUJPRsEEomzoAtP56s-7HFtk?usp=sharing)). The data are composed of:\n",
    "   - 7 folder named after the games (game1 to game7).\n",
    "   - Each game includes 13 ordered images (1st to 13th round).\n",
    "   - Each game includes a csv file with the ground truth of the game. The first row list the players (P1 to P4) as well as the dealer (D). The following rows represent the rounds (1 to 13). We represent the card played with 2 character as $AB$ where $A \\in [0-9, J, Q, K]$ is the rank of the card and $B \\in [C, D, H, S]$ is the suit. For example, QS means \"(Q)ueen of (S)pade\" and 0D means \"(0) of (D)iamond\". The dealer is represented by the ID of the player (e.g. P1 -> 1).\n",
    "   \n",
    "You are free to use external datasets such as the original MNIST train set that you used in lab 3."
   ]
  },
  {
   "cell_type": "markdown",
   "metadata": {},
   "source": [
    "### Data loading"
   ]
  },
  {
   "cell_type": "code",
   "execution_count": null,
   "metadata": {},
   "outputs": [],
   "source": [
    "train_data = 'data/train_games'\n",
    "train_game_count = 7\n",
    "game_round_count = 13\n",
    "\n",
    "dict_data = {}\n",
    "\n",
    "for i in range(1, train_game_count+1):\n",
    "    # For each game, store the path of the csv and the image of each round\n",
    "    dict_data[f'game{i}'] = {}\n",
    "    dict_data[f'game{i}']['url'] = train_data + f'/game{i}'\n",
    "    dict_data[f'game{i}']['csv'] = train_data + f'/game{i}.csv'\n",
    "    \n",
    "    for j in range(1, game_round_count+1):\n",
    "        dict_data[f'game{i}'][f'round{j}'] = skimage.io.imread(train_data + f'/game{i}/{j}.jpg')"
   ]
  },
  {
   "cell_type": "markdown",
   "metadata": {},
   "source": [
    "### Data visualisation"
   ]
  },
  {
   "cell_type": "code",
   "execution_count": null,
   "metadata": {},
   "outputs": [],
   "source": [
    "def visualise_img(img=None,\n",
    "                  contours=None, nbr_contours=5,\n",
    "                  dict_data=dict_data, game=1, round_nb=1):\n",
    "    \n",
    "    # If no image was given (None), take an image from dict_data\n",
    "    if img is None:\n",
    "        img = dict_data[f'game{game}'][f'round{round_nb}']\n",
    "    img_to_display = img.copy()\n",
    "    \n",
    "    # If there are contours, add them on top of the img\n",
    "    if contours is not None:\n",
    "        img_to_display = cv2.drawContours(img_to_display, contours[:nbr_contours], -1, (255,0,0), 10)\n",
    "    \n",
    "    # Display image\n",
    "    fig, ax = plt.subplots(1, 1, figsize=(6, 8))\n",
    "    ax.imshow(img_to_display, cmap='gray')\n",
    "    ax.set_title(f'Game {game} - Round {round_nb}')\n",
    "    ax.axis('off')\n",
    "    plt.show()"
   ]
  },
  {
   "cell_type": "code",
   "execution_count": null,
   "metadata": {},
   "outputs": [],
   "source": [
    "def visualise_game(withContours=False, debug=False):\n",
    "    fig, ax = plt.subplots(train_game_count, game_round_count, figsize=(40, 40))\n",
    "    \n",
    "    for i in range(1, train_game_count+1):\n",
    "        for j in range(1, game_round_count+1):\n",
    "            img = dict_data[f'game{i}'][f'round{j}']  \n",
    "            img_to_display = img.copy()\n",
    "            \n",
    "            # Draw the processed image\n",
    "            if debug:\n",
    "                _, _, _, img_processed_chip = detect_dealer_chip(img_to_display)\n",
    "                contour_cards, img_to_display = detect_cards(img_to_display, img_processed_chip)\n",
    "            \n",
    "            # Draw contours if asked\n",
    "            if withContours:\n",
    "                contour_chip, centers, radius, img_processed_chip = detect_dealer_chip(img_to_display)\n",
    "                contour_cards, img_processed_card = detect_cards(img_to_display, img_processed_chip)\n",
    "                \n",
    "                # Draw the contour of the cards\n",
    "                img_to_display = cv2.drawContours(img_to_display, contour_cards, -1, (255,0,0), 10)\n",
    "                \n",
    "                # Draw the contour of the chip\n",
    "                #img_to_display = cv2.drawContours(img_to_display, contour_chip, -1, (255,0,0), 10)\n",
    "                \n",
    "                # Draw the enclosing circle of the chip\n",
    "                img_to_display = cv2.circle(img_to_display, (int(centers[0]), int(centers[1])), \n",
    "                                            int(radius), (0,0,255), 10)\n",
    "\n",
    "            ax[i-1,j-1].imshow(img_to_display, cmap='gray')\n",
    "            ax[i-1,j-1].set_title(f'Game {i} - Round {j}')\n",
    "            ax[i-1,j-1].axis('off')\n",
    "    \n",
    "    plt.show()"
   ]
  },
  {
   "cell_type": "code",
   "execution_count": null,
   "metadata": {},
   "outputs": [],
   "source": [
    "visualise_img()"
   ]
  },
  {
   "cell_type": "code",
   "execution_count": null,
   "metadata": {
    "scrolled": false
   },
   "outputs": [],
   "source": [
    "visualise_game(debug=True)"
   ]
  },
  {
   "cell_type": "markdown",
   "metadata": {},
   "source": [
    "---\n",
    "## 3. Your Tasks\n",
    "\n",
    "Your task is to ready yourself for the final evaluation. The day of the exam we will give you a new folder with a new game. ! The digits on the cards **differ** from the one of the traning set. When given a new data folder with 13 images your should be able to:\n",
    "\n",
    "**Task 0**\n",
    "   - Plot an overlay for each round image that shows your detections and classification. You can for example plot bounding boxes around the cards/dealer token and add a text overlay with the name of the classes.\n",
    "\n",
    "**Task 1**\n",
    "   - (a) Predict the **rank** of the card played by each player at each round (Standard rules).\n",
    "   - (b) Predict the **number of points** of each player according to **Standard** rules\n",
    " \n",
    "**Task 2**\n",
    "   - (a) Detect which player is the selected **dealer** for each round.\n",
    "   - (b) Predict the **rank** and the **suit** of the card played by each player at each round (Advanced rules).\n",
    "   - (c) Predict the **number of points** of each player according to **Advanced** rules\n",
    "\n",
    "---\n",
    "\n",
    "**Before the exam (until 03.06.21 at 23h59)**\n",
    "   - Create a zipped folder named **group_xx.zip** that you upload on moodle (xx being your group number).\n",
    "   - Include a **runnable** code (Jupyter Notebook and external files) and your presentation in the zip folder.\n",
    "   \n",
    "**The day of the exam (04.06.21)**\n",
    "   - You will be given a **new folder** with 13 images (rounds) and but **no ground truth** (csv file).\n",
    "   - We will ask you to run your pipeline in **realtime** and to send us your prediction of task 1 and 2 that you obtain with the function **print_results**. \n",
    "   - On our side we will compute the perfomance of your classification algorithm. \n",
    "   - To evaluate your method we will use the **evaluate_game** function presented below. To understand how the provided functions work please read the documentation of the functions in **utils.py**.\n",
    "   - **Please make sure your function returns the proper data format to avoid points penalty the day of the exam**. "
   ]
  },
  {
   "cell_type": "markdown",
   "metadata": {},
   "source": [
    "### Task 0"
   ]
  },
  {
   "cell_type": "code",
   "execution_count": null,
   "metadata": {},
   "outputs": [],
   "source": [
    "def split_2d_img(img):\n",
    "    height, width = img.shape[0], img.shape[1]\n",
    "    \n",
    "    # Boarders of the img\n",
    "    top_lim = int(0.32*height)\n",
    "    bot_lim = int(0.68*height)\n",
    "    horizontal_lim = int(width/2)\n",
    "    \n",
    "    # Note that height => y and width => x\n",
    "    translation_to_org = {\n",
    "        'Player 1': {'x':0, 'y':bot_lim},\n",
    "        'Player 2': {'x':horizontal_lim, 'y':top_lim}, \n",
    "        'Player 3': {'x':0, 'y':0}, \n",
    "        'Player 4': {'x':0, 'y':top_lim}\n",
    "    }\n",
    "    \n",
    "    top_img = img[:top_lim, :]\n",
    "    bot_img = img[bot_lim:, :]\n",
    "    left_img = img[top_lim:bot_lim, :horizontal_lim]\n",
    "    right_img = img[top_lim:bot_lim, horizontal_lim:]\n",
    "    \n",
    "    imgs = {'Player 1':bot_img, 'Player 2':right_img, 'Player 3':top_img, 'Player 4':left_img}\n",
    "    \n",
    "    return imgs, translation_to_org"
   ]
  },
  {
   "cell_type": "code",
   "execution_count": null,
   "metadata": {},
   "outputs": [],
   "source": [
    "def find_sorted_contours(img):\n",
    "    # Find the contours of our image\n",
    "    contours, _ = cv2.findContours(img, cv2.RETR_EXTERNAL, cv2.CHAIN_APPROX_SIMPLE)\n",
    "\n",
    "    # Sort the contours by area covered within the contours\n",
    "    contours = sorted(contours, key=cv2.contourArea, reverse=True)\n",
    "    \n",
    "    return contours"
   ]
  },
  {
   "cell_type": "code",
   "execution_count": null,
   "metadata": {},
   "outputs": [],
   "source": [
    "def detect_dealer_chip(img):\n",
    "    # Convert RGB to HSV image\n",
    "    hsv_img = rgb_to_hsv(img)\n",
    "    \n",
    "    # Split the image\n",
    "    hue_img, sat_img, val_img = split_img(hsv_img)\n",
    "    \n",
    "    # Threshold the image and transform it to a binary image\n",
    "    img_processed = (hue_img > 60) & (hue_img < 120) & (sat_img > 90) & (sat_img < 180)\n",
    "    \n",
    "    # Convert the image from binary to [0-255]\n",
    "    img_processed = img_as_ubyte(img_processed)\n",
    "    \n",
    "    # Apply a closing to the image (close the holes in the dealer chip)\n",
    "    kernel_ell = cv2.getStructuringElement(cv2.MORPH_ELLIPSE,(15,15))\n",
    "    img_processed = cv2.morphologyEx(img_processed, cv2.MORPH_CLOSE, kernel_ell)\n",
    "\n",
    "    # Apply an opening to the image (remove the cards)\n",
    "    kernel_rec = cv2.getStructuringElement(cv2.MORPH_RECT,(45,45))\n",
    "    img_processed = cv2.morphologyEx(img_processed, cv2.MORPH_OPEN, kernel_rec)\n",
    "    \n",
    "    # Find the contour & the enclosing circle of the chip\n",
    "    contour_chip = find_sorted_contours(img_processed)[0]\n",
    "                \n",
    "    contour_chip_poly = cv2.approxPolyDP(contour_chip, 3, True)\n",
    "    centers, radius = cv2.minEnclosingCircle(contour_chip_poly)\n",
    "    \n",
    "    return contour_chip, centers, radius, img_processed"
   ]
  },
  {
   "cell_type": "code",
   "execution_count": null,
   "metadata": {},
   "outputs": [],
   "source": [
    "def detect_cards(img, img_processed_chip):\n",
    "    \n",
    "    ### Process the image ###\n",
    "    \n",
    "    # Convert RGB to HSV image\n",
    "    hsv_img = rgb_to_hsv(img)\n",
    "    \n",
    "    # Split the image\n",
    "    hue_img, sat_img, val_img = split_img(hsv_img)\n",
    "    \n",
    "    # Threshold the image and transform it to a binary image\n",
    "    img_processed = (hue_img > 60) & (hue_img < 120) & (sat_img > 40) & (sat_img < 170)\n",
    "    \n",
    "    # Remove the dealer chip from the processed image\n",
    "    img_processed = img_processed & cv2.bitwise_not(img_processed_chip)\n",
    "    \n",
    "    # Convert the image from binary to [0-255]\n",
    "    img_processed = img_as_ubyte(img_processed)\n",
    "    \n",
    "    # Apply an opening to the image (remove the cards)\n",
    "    #kernel_ell = cv2.getStructuringElement(cv2.MORPH_RECT,(30,30))\n",
    "    #img_processed = cv2.morphologyEx(img_processed, cv2.MORPH_OPEN, kernel_ell)\n",
    "    \n",
    "    # Apply a median filter to sharpen the chip and remove residual noise\n",
    "    img_processed = cv2.medianBlur(img_processed, 31)\n",
    "    \n",
    "    # Apply a closing to the image (close the holes in the dealer chip)\n",
    "    kernel_rect = cv2.getStructuringElement(cv2.MORPH_RECT,(50,50))\n",
    "    img_processed = cv2.morphologyEx(img_processed, cv2.MORPH_CLOSE, kernel_rect)\n",
    "    \n",
    "    \n",
    "    ### Find the contours for the four cards ###\n",
    "    \n",
    "    players = ['Player 1', 'Player 2', 'Player 3', 'Player 4']\n",
    "    imgs_processed, translation_to_org = split_2d_img(img_processed)\n",
    "    boxes = []\n",
    "    \n",
    "    for player in players:\n",
    "        \n",
    "        # Find the contours of the card\n",
    "        contours_card = find_sorted_contours(imgs_processed[player])\n",
    "        \n",
    "        # Merge the contours of the card\n",
    "        contour_card = np.vstack(contours_card)\n",
    "\n",
    "        # Find the min enclosing rect\n",
    "        rect = cv2.minAreaRect(contour_card)\n",
    "        \n",
    "        # Take the corners of the rect\n",
    "        box = np.int64(cv2.boxPoints(rect))\n",
    "\n",
    "        # Translate the contour to the right place in the original image\n",
    "        box = [[corner[0] + translation_to_org[player]['x'], corner[1] + translation_to_org[player]['y']] \n",
    "               for corner in box]\n",
    "\n",
    "        boxes.append(np.array(box))\n",
    "\n",
    "    return boxes, img_processed"
   ]
  },
  {
   "cell_type": "markdown",
   "metadata": {},
   "source": [
    "### Data exploration"
   ]
  },
  {
   "cell_type": "code",
   "execution_count": null,
   "metadata": {},
   "outputs": [],
   "source": [
    "img = dict_data['game2']['round8']\n",
    "_, _, _, img_processed_chip  = detect_dealer_chip(img)\n",
    "contour_cards, img_processed = detect_cards(img, img_processed_chip)"
   ]
  },
  {
   "cell_type": "code",
   "execution_count": null,
   "metadata": {},
   "outputs": [],
   "source": [
    "visualise_img(img, contours=contour_cards)"
   ]
  },
  {
   "cell_type": "code",
   "execution_count": null,
   "metadata": {},
   "outputs": [],
   "source": [
    "a, b = split_2d_img(img_processed)"
   ]
  },
  {
   "cell_type": "code",
   "execution_count": null,
   "metadata": {},
   "outputs": [],
   "source": [
    "visualise_img(a['Player 2'])"
   ]
  },
  {
   "cell_type": "code",
   "execution_count": null,
   "metadata": {},
   "outputs": [],
   "source": [
    "# :int(0.35*height), : / int(0.65*height):, : / \n",
    "# int(0.35*height):int(0.65*height), :int(width/2) / int(0.35*height):int(0.65*height), int(width/2):\n",
    "height, width = img.shape[0], img.shape[1]\n",
    "crop = a['Player 2']\n",
    "visualise_img(img)\n",
    "plot_histogram(rgb_to_hsv(img), 'HSV')"
   ]
  },
  {
   "cell_type": "code",
   "execution_count": null,
   "metadata": {},
   "outputs": [],
   "source": [
    "hue_img, sat_img, val_img = split_img(rgb_to_hsv(img))\n",
    "    \n",
    "# Threshold the image and transform it to a binary image\n",
    "img_thresh = ((hue_img > 30) & (hue_img < 120) & \n",
    "              (sat_img > 45) & (sat_img < 170) &\n",
    "              (val_img > 20) & (val_img < 190)\n",
    "             )\n",
    "\n",
    "visualise_img(img_thresh)"
   ]
  },
  {
   "cell_type": "markdown",
   "metadata": {},
   "source": [
    "### Task 1"
   ]
  },
  {
   "cell_type": "markdown",
   "metadata": {},
   "source": [
    "### Task 2"
   ]
  },
  {
   "cell_type": "code",
   "execution_count": 26,
   "metadata": {},
   "outputs": [],
   "source": [
    "from scipy.signal import resample"
   ]
  },
  {
   "cell_type": "code",
   "execution_count": 40,
   "metadata": {},
   "outputs": [],
   "source": [
    "suits_path = \"data/all_games_suits.pickle\"\n",
    "suits_df = pd.read_pickle(suits_path)"
   ]
  },
  {
   "cell_type": "code",
   "execution_count": 46,
   "metadata": {
    "scrolled": false
   },
   "outputs": [
    {
     "data": {
      "image/png": "[encoded data removed]",
      "text/plain": [
       "<Figure size 288x288 with 1 Axes>"
      ]
     },
     "metadata": {
      "needs_background": "light"
     },
     "output_type": "display_data"
    }
   ],
   "source": [
    "# Display image\n",
    "fig, ax = plt.subplots(1, 1, figsize=(4, 4))\n",
    "ax.imshow(suits_df[0][1], cmap='gray')\n",
    "#ax.set_title(f'Game {game} - Round {round_nb}')\n",
    "ax.axis('off')\n",
    "plt.show()"
   ]
  },
  {
   "cell_type": "code",
   "execution_count": 248,
   "metadata": {},
   "outputs": [],
   "source": [
    "def find_fourier_descriptors(img):\n",
    "    \"\"\" \n",
    "    Finds and returns the Fourier descriptors of an image contour.\n",
    "    \n",
    "    The function first find the external contours of the image \n",
    "    \n",
    "    Parameters\n",
    "    ----------\n",
    "    img : np.ndarray (MxM)\n",
    "        A 2D image\n",
    "\n",
    "    Returns\n",
    "    -------\n",
    "    np.ndarray\n",
    "        The Fourier descriptors of the image\n",
    "    \"\"\"\n",
    "    # Find the external contours of the image\n",
    "    contours, _ = cv2.findContours(img, cv2.RETR_EXTERNAL, cv2.CHAIN_APPROX_NONE)\n",
    "    \n",
    "    # We resample the contours so that they have the same number of points (which impact the DFT)\n",
    "    contours_resampled = resample(contours[0], 50)\n",
    "    \n",
    "    ### Plot the contours if necessary\n",
    "    #plt.plot(np.array(contours_resampled).squeeze()[:,0], np.array(contours_resampled).squeeze()[:,1])\n",
    "    #plt.imshow(img,cmap=\"gray\")\n",
    "    #plt.show()\n",
    "\n",
    "    # Obtain the list of 2D coordinates for the external contour of the main object in the image\n",
    "    digit_contour = contours_resampled[:,0,:]\n",
    "    \n",
    "    # Convert the coordinates from x-y axis to a complex representation \n",
    "    digit_contour_complex = np.empty(digit_contour.shape[:-1], dtype=complex)\n",
    "    digit_contour_complex.real = digit_contour[:, 0]\n",
    "    digit_contour_complex.imag = digit_contour[:, 1]\n",
    "    \n",
    "    fourier_descriptors = np.fft.fft(digit_contour_complex)\n",
    "    \n",
    "    return fourier_descriptors\n"
   ]
  },
  {
   "cell_type": "code",
   "execution_count": 249,
   "metadata": {},
   "outputs": [],
   "source": [
    "def extract_2D_features_from_fourier_descriptors(fourier_descriptors):\n",
    "    \"\"\" \n",
    "    Compute two features from the fourier descriptors.\n",
    "    \n",
    "    The features are invariant to translation, rotation and scaling. \n",
    "    \n",
    "    Parameters\n",
    "    ----------\n",
    "    fourier_descriptors : np.ndarray (N,)\n",
    "        An array of fourier descriptors\n",
    "\n",
    "    Returns\n",
    "    -------\n",
    "    (float, float)\n",
    "        A tuple containing two features based on Fourier descriptors, \n",
    "        invariant to translation, rotation and scaling.\n",
    "    \"\"\"\n",
    "    # Take the amplitute of f1, f2, f3 (invariant to translation and rotation)\n",
    "    A1 = np.abs(fourier_descriptors[1])\n",
    "    A2 = np.abs(fourier_descriptors[2])\n",
    "    A3 = np.abs(fourier_descriptors[3])\n",
    "    A4 = np.abs(fourier_descriptors[4])\n",
    "    A5 = np.abs(fourier_descriptors[5])\n",
    "    A6 = np.abs(fourier_descriptors[6])\n",
    "    A7 = np.abs(fourier_descriptors[7])\n",
    "\n",
    "    # Compute the ratio of two coefficients (invariant to scaling)\n",
    "    feature1 = A1/A7\n",
    "    feature2 = A2/A7\n",
    "    feature3 = A3/A7\n",
    "    feature4 = A4/A7\n",
    "    feature5 = A5/A7\n",
    "    feature6 = A6/A7\n",
    "\n",
    "    return (feature1, feature2, feature3, feature4, feature5, feature6)"
   ]
  },
  {
   "cell_type": "code",
   "execution_count": 250,
   "metadata": {},
   "outputs": [],
   "source": [
    "def extract_2d_features_from_suits(suits):\n",
    "    suits_2D_features = {\n",
    "        'H': [],\n",
    "        'D': [],\n",
    "        'C': [],\n",
    "        'S': []\n",
    "    }\n",
    "    \n",
    "    for card_str, suit in suits:\n",
    "        suit_fourier_descriptors = find_fourier_descriptors(img_as_ubyte(suit))\n",
    "        suit_2D_features = extract_2D_features_from_fourier_descriptors(suit_fourier_descriptors)\n",
    "        suits_2D_features[card_str[1]].append(suit_2D_features)\n",
    "    \n",
    "    return suits_2D_features"
   ]
  },
  {
   "cell_type": "code",
   "execution_count": 251,
   "metadata": {},
   "outputs": [],
   "source": [
    "suits_features = extract_2d_features_from_suits(suits_df)\n",
    "\n",
    "hearts_features = np.array(suits_features['H'])\n",
    "diamonds_features = np.array(suits_features['D'])\n",
    "clubs_features = np.array(suits_features['C'])\n",
    "spades_features = np.array(suits_features['S'])"
   ]
  },
  {
   "cell_type": "code",
   "execution_count": 264,
   "metadata": {},
   "outputs": [
    {
     "data": {
      "text/html": [
       "<div>\n",
       "<style scoped>\n",
       "    .dataframe tbody tr th:only-of-type {\n",
       "        vertical-align: middle;\n",
       "    }\n",
       "\n",
       "    .dataframe tbody tr th {\n",
       "        vertical-align: top;\n",
       "    }\n",
       "\n",
       "    .dataframe thead th {\n",
       "        text-align: right;\n",
       "    }\n",
       "</style>\n",
       "<table border=\"1\" class=\"dataframe\">\n",
       "  <thead>\n",
       "    <tr style=\"text-align: right;\">\n",
       "      <th></th>\n",
       "      <th>f1</th>\n",
       "      <th>f2</th>\n",
       "      <th>f3</th>\n",
       "      <th>f4</th>\n",
       "      <th>f5</th>\n",
       "      <th>f6</th>\n",
       "    </tr>\n",
       "  </thead>\n",
       "  <tbody>\n",
       "    <tr>\n",
       "      <th>0</th>\n",
       "      <td>4.796103</td>\n",
       "      <td>23.581416</td>\n",
       "      <td>2.493555</td>\n",
       "      <td>6.496597</td>\n",
       "      <td>2.122071</td>\n",
       "      <td>1.308828</td>\n",
       "    </tr>\n",
       "    <tr>\n",
       "      <th>1</th>\n",
       "      <td>8.536946</td>\n",
       "      <td>28.400298</td>\n",
       "      <td>2.311555</td>\n",
       "      <td>7.053818</td>\n",
       "      <td>3.037223</td>\n",
       "      <td>1.345837</td>\n",
       "    </tr>\n",
       "    <tr>\n",
       "      <th>2</th>\n",
       "      <td>16.726986</td>\n",
       "      <td>45.889585</td>\n",
       "      <td>4.313874</td>\n",
       "      <td>12.131572</td>\n",
       "      <td>5.323092</td>\n",
       "      <td>2.506757</td>\n",
       "    </tr>\n",
       "    <tr>\n",
       "      <th>3</th>\n",
       "      <td>7.177107</td>\n",
       "      <td>34.273504</td>\n",
       "      <td>0.846140</td>\n",
       "      <td>8.102755</td>\n",
       "      <td>1.307529</td>\n",
       "      <td>1.441770</td>\n",
       "    </tr>\n",
       "    <tr>\n",
       "      <th>4</th>\n",
       "      <td>124.126334</td>\n",
       "      <td>193.714141</td>\n",
       "      <td>8.192716</td>\n",
       "      <td>37.134385</td>\n",
       "      <td>6.290114</td>\n",
       "      <td>17.973185</td>\n",
       "    </tr>\n",
       "    <tr>\n",
       "      <th>...</th>\n",
       "      <td>...</td>\n",
       "      <td>...</td>\n",
       "      <td>...</td>\n",
       "      <td>...</td>\n",
       "      <td>...</td>\n",
       "      <td>...</td>\n",
       "    </tr>\n",
       "    <tr>\n",
       "      <th>183</th>\n",
       "      <td>40.347459</td>\n",
       "      <td>63.374849</td>\n",
       "      <td>6.275004</td>\n",
       "      <td>15.234536</td>\n",
       "      <td>3.799766</td>\n",
       "      <td>6.436337</td>\n",
       "    </tr>\n",
       "    <tr>\n",
       "      <th>184</th>\n",
       "      <td>13.750550</td>\n",
       "      <td>44.792313</td>\n",
       "      <td>4.404023</td>\n",
       "      <td>11.272653</td>\n",
       "      <td>5.608919</td>\n",
       "      <td>2.526985</td>\n",
       "    </tr>\n",
       "    <tr>\n",
       "      <th>185</th>\n",
       "      <td>5.363837</td>\n",
       "      <td>21.523243</td>\n",
       "      <td>1.837322</td>\n",
       "      <td>5.947457</td>\n",
       "      <td>1.276183</td>\n",
       "      <td>1.360110</td>\n",
       "    </tr>\n",
       "    <tr>\n",
       "      <th>186</th>\n",
       "      <td>23.239105</td>\n",
       "      <td>116.652173</td>\n",
       "      <td>5.282259</td>\n",
       "      <td>27.729275</td>\n",
       "      <td>9.188479</td>\n",
       "      <td>2.138840</td>\n",
       "    </tr>\n",
       "    <tr>\n",
       "      <th>187</th>\n",
       "      <td>10.261858</td>\n",
       "      <td>57.862837</td>\n",
       "      <td>4.390163</td>\n",
       "      <td>14.545017</td>\n",
       "      <td>4.726140</td>\n",
       "      <td>1.525479</td>\n",
       "    </tr>\n",
       "  </tbody>\n",
       "</table>\n",
       "<p>188 rows × 6 columns</p>\n",
       "</div>"
      ],
      "text/plain": [
       "             f1          f2        f3         f4        f5         f6\n",
       "0      4.796103   23.581416  2.493555   6.496597  2.122071   1.308828\n",
       "1      8.536946   28.400298  2.311555   7.053818  3.037223   1.345837\n",
       "2     16.726986   45.889585  4.313874  12.131572  5.323092   2.506757\n",
       "3      7.177107   34.273504  0.846140   8.102755  1.307529   1.441770\n",
       "4    124.126334  193.714141  8.192716  37.134385  6.290114  17.973185\n",
       "..          ...         ...       ...        ...       ...        ...\n",
       "183   40.347459   63.374849  6.275004  15.234536  3.799766   6.436337\n",
       "184   13.750550   44.792313  4.404023  11.272653  5.608919   2.526985\n",
       "185    5.363837   21.523243  1.837322   5.947457  1.276183   1.360110\n",
       "186   23.239105  116.652173  5.282259  27.729275  9.188479   2.138840\n",
       "187   10.261858   57.862837  4.390163  14.545017  4.726140   1.525479\n",
       "\n",
       "[188 rows x 6 columns]"
      ]
     },
     "execution_count": 264,
     "metadata": {},
     "output_type": "execute_result"
    }
   ],
   "source": [
    "hearts_df = pd.DataFrame(hearts_features, columns=['f1','f2','f3','f4','f5','f6'])"
   ]
  },
  {
   "cell_type": "code",
   "execution_count": 245,
   "metadata": {},
   "outputs": [
    {
     "data": {
      "image/png": "[encoded data removed]",
      "text/plain": [
       "<Figure size 864x360 with 1 Axes>"
      ]
     },
     "metadata": {
      "needs_background": "light"
     },
     "output_type": "display_data"
    }
   ],
   "source": [
    "# Plot descriptors\n",
    "fig = plt.figure(1, figsize=(12, 5))\n",
    "ax = fig.add_subplot(projection='3d')\n",
    "\n",
    "ax.scatter(hearts_features[:,0], hearts_features[:,1], hearts_features[:,2], label=\"Heart\", color='red') \n",
    "ax.scatter(diamonds_features[:,0], diamonds_features[:,1], diamonds_features[:,2], label=\"Diamond\", color='orange')   \n",
    "ax.scatter(clubs_features[:,0], clubs_features[:,1], clubs_features[:,2], label=\"Club\", color='black')\n",
    "ax.scatter(spades_features[:,0], spades_features[:,1], spades_features[:,2], label=\"Spade\", color='blue')   \n",
    "\n",
    "ax.set_xlabel(\"Feature 1\")\n",
    "ax.set_ylabel(\"Feature 2\")\n",
    "ax.set_zlabel(\"Feature 3\")\n",
    "\n",
    "\n",
    "ax.set_title(\"Plot of the 2nd and 3rd fourier descriptors of all images\")\n",
    "ax.legend()\n",
    "plt.show()"
   ]
  },
  {
   "cell_type": "markdown",
   "metadata": {},
   "source": [
    "---\n",
    "### 4.1 Example Final results\n",
    "\n",
    "Example of output you **should** provide the day of the final exam."
   ]
  },
  {
   "cell_type": "code",
   "execution_count": null,
   "metadata": {},
   "outputs": [],
   "source": [
    "# Creates dummy predictions (toy exmaple)\n",
    "pred_rank = np.array([\"0D\"]*4*13).reshape((13, 4)) # Everyone played the \"0 of spade\".\n",
    "pred_dealer = [1]*13                # List of players selected as dealer for each round\n",
    "pred_pts_stand = [0,0,0,13]         # Player 4 won 13 points with standard rules.\n",
    "pred_pts_advan = [0,0,8,7]          # Player 3 and 4 won 8 and 7 points with adv, rules respectively.\n",
    "\n",
    "print_results(\n",
    "    rank_colour=pred_rank, \n",
    "    dealer=pred_dealer, \n",
    "    pts_standard=pred_pts_stand,\n",
    "    pts_advanced=pred_pts_advan,\n",
    ")"
   ]
  },
  {
   "cell_type": "markdown",
   "metadata": {},
   "source": [
    "---\n",
    "### 4.2 Example Accuracy\n",
    "\n",
    "Example of code you can use to validate the performance of your model. Be careful the day of the exam you will not have access to the ground truth of the predictions."
   ]
  },
  {
   "cell_type": "code",
   "execution_count": null,
   "metadata": {},
   "outputs": [],
   "source": [
    "# Load ground truth from game 1\n",
    "cgt = pd.read_csv('train_games/game1/game1.csv', index_col=0)\n",
    "cgt_rank = cgt[['P1', 'P2', 'P3', 'P4']].values\n",
    "\n",
    "# Compute accuracy of prediction\n",
    "acc_standard = evaluate_game(pred_rank, cgt_rank, mode_advanced=False)\n",
    "acc_advanced = evaluate_game(pred_rank, cgt_rank, mode_advanced=True)\n",
    "print(\"Your model accuracy is: Standard={:.3f}, Advanced={:.3f}\".format(acc_standard, acc_advanced))"
   ]
  }
 ],
 "metadata": {
  "kernelspec": {
   "display_name": "Python 3",
   "language": "python",
   "name": "python3"
  },
  "language_info": {
   "codemirror_mode": {
    "name": "ipython",
    "version": 3
   },
   "file_extension": ".py",
   "mimetype": "text/x-python",
   "name": "python",
   "nbconvert_exporter": "python",
   "pygments_lexer": "ipython3",
   "version": "3.8.3"
  }
 },
 "nbformat": 4,
 "nbformat_minor": 2
}
