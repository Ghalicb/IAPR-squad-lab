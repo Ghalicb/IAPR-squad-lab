{
 "cells": [
  {
   "cell_type": "code",
   "execution_count": 1,
   "id": "rental-remedy",
   "metadata": {},
   "outputs": [],
   "source": [
    "import os\n",
    "import gzip\n",
    "import tarfile\n",
    "\n",
    "import pickle\n",
    "import pandas as pd\n",
    "\n",
    "import numpy as np\n",
    "import matplotlib.pyplot as plt\n",
    "\n",
    "import skimage\n",
    "from skimage import img_as_ubyte\n",
    "from skimage.exposure import histogram\n",
    "\n",
    "import cv2\n",
    "\n",
    "# Torch\n",
    "import torch\n",
    "from torch import nn\n",
    "import torch.nn.functional as F\n",
    "\n",
    "# Model\n",
    "from torchvision.models import resnet18\n",
    "\n",
    "# Data Loading\n",
    "from torchvision import datasets\n",
    "from torch.utils import data\n",
    "\n",
    "# Data augmentation\n",
    "from torch import tensor\n",
    "import torchvision.transforms as transforms"
   ]
  },
  {
   "cell_type": "markdown",
   "id": "juvenile-identity",
   "metadata": {},
   "source": [
    "# Load data"
   ]
  },
  {
   "cell_type": "code",
   "execution_count": 13,
   "id": "unique-replica",
   "metadata": {},
   "outputs": [],
   "source": [
    "def extract_data(filename, image_shape, image_number):\n",
    "    with gzip.open(filename) as bytestream:\n",
    "        bytestream.read(16)\n",
    "        buf = bytestream.read(np.prod(image_shape) * image_number)\n",
    "        data = np.frombuffer(buf, dtype=np.uint8)\n",
    "        data = data.reshape(image_number, image_shape[0], image_shape[1])\n",
    "    return data\n",
    "\n",
    "\n",
    "def extract_labels(filename, image_number):\n",
    "    with gzip.open(filename) as bytestream:\n",
    "        bytestream.read(8)\n",
    "        buf = bytestream.read(1 * image_number)\n",
    "        labels = np.frombuffer(buf, dtype=np.uint8).astype(np.int64)\n",
    "    return labels"
   ]
  },
  {
   "cell_type": "code",
   "execution_count": 14,
   "id": "promising-interpretation",
   "metadata": {},
   "outputs": [],
   "source": [
    "image_shape = (28, 28)\n",
    "train_set_size = 60000\n",
    "test_set_size = 10000\n",
    "\n",
    "mnist_folder = os.path.join('data', 'MNIST')\n",
    "\n",
    "train_images_path = os.path.join(mnist_folder, 'train-images-idx3-ubyte.gz')\n",
    "train_labels_path = os.path.join(mnist_folder, 'train-labels-idx1-ubyte.gz')\n",
    "test_images_path = os.path.join(mnist_folder, 't10k-images-idx3-ubyte.gz')\n",
    "test_labels_path = os.path.join(mnist_folder, 't10k-labels-idx1-ubyte.gz')\n",
    "\n",
    "train_images = extract_data(train_images_path, image_shape, train_set_size)\n",
    "test_images = extract_data(test_images_path, image_shape, test_set_size)\n",
    "train_labels = extract_labels(train_labels_path, train_set_size)\n",
    "test_labels = extract_labels(test_labels_path, test_set_size)"
   ]
  },
  {
   "cell_type": "code",
   "execution_count": null,
   "id": "piano-palestinian",
   "metadata": {},
   "outputs": [],
   "source": []
  },
  {
   "cell_type": "code",
   "execution_count": 15,
   "id": "fossil-holiday",
   "metadata": {},
   "outputs": [
    {
     "data": {
      "image/png": "[encoded data removed]",
      "text/plain": [
       "<Figure size 864x216 with 10 Axes>"
      ]
     },
     "metadata": {
      "needs_background": "light"
     },
     "output_type": "display_data"
    }
   ],
   "source": [
    "prng = np.random.RandomState(seed=123456789)  # seed to always re-draw the same distribution\n",
    "plt_ind = prng.randint(low=0, high=train_set_size, size=10)\n",
    "\n",
    "fig, axes = plt.subplots(1, 10, figsize=(12, 3))\n",
    "for ax, im, lb in zip(axes, train_images[plt_ind], train_labels[plt_ind]):\n",
    "    ax.imshow(im, cmap='gray')\n",
    "    ax.axis('off')\n",
    "    ax.set_title(lb)"
   ]
  },
  {
   "cell_type": "markdown",
   "id": "magnetic-relaxation",
   "metadata": {},
   "source": [
    "# Load results from task 0"
   ]
  },
  {
   "cell_type": "code",
   "execution_count": null,
   "id": "bridal-orchestra",
   "metadata": {},
   "outputs": [],
   "source": [
    "def load_segmentation_task0(filepath):\n",
    "    segmented = pd.read_pickle(filepath)\n",
    "    values = series[0].values\n",
    "    imgs = [v[-1] for v in values]\n",
    "    ranks = [v[0][0] for v in values]\n",
    "    suits = [v[0][1] for v in values]\n",
    "\n",
    "    df_task0 = pd.DataFrame({\"rank\": ranks, \"suit\": suits, \"image\": imgs})\n",
    "    df_numbers_only = df_task0[~df_task0['rank'].isin(['Q', 'J', 'K'])].drop_index(drop=True)\n",
    "    df_not_numbers = df_task0[df_task0['rank'].isin(['Q', 'J', 'K'])].drop_index(drop=True)\n",
    "    \n",
    "    return df_task0, df_numbers_only, df_not_numbers\n",
    "  \n",
    "def preprocess_segmented_task0(img):\n",
    "    inverted = img_as_ubyte(skimage.util.invert(img))\n",
    "    _, binary = cv2.threshold(inverted, 100, 120, cv2.THRESH_BINARY)\n",
    "    blurred = cv2.GaussianBlur(binary, (3,3), 0)\n",
    "\n",
    "    return blurred"
   ]
  },
  {
   "cell_type": "code",
   "execution_count": 2,
   "id": "technical-pharmacology",
   "metadata": {},
   "outputs": [],
   "source": [
    "series = pd.read_pickle(os.path.join('data', 'classification_data', 'all_games_classification_series.pickle'))"
   ]
  },
  {
   "cell_type": "code",
   "execution_count": 3,
   "id": "binary-mexico",
   "metadata": {},
   "outputs": [],
   "source": [
    "values = series[0].values"
   ]
  },
  {
   "cell_type": "code",
   "execution_count": 4,
   "id": "colonial-toddler",
   "metadata": {},
   "outputs": [
    {
     "data": {
      "text/html": [
       "<div>\n",
       "<style scoped>\n",
       "    .dataframe tbody tr th:only-of-type {\n",
       "        vertical-align: middle;\n",
       "    }\n",
       "\n",
       "    .dataframe tbody tr th {\n",
       "        vertical-align: top;\n",
       "    }\n",
       "\n",
       "    .dataframe thead th {\n",
       "        text-align: right;\n",
       "    }\n",
       "</style>\n",
       "<table border=\"1\" class=\"dataframe\">\n",
       "  <thead>\n",
       "    <tr style=\"text-align: right;\">\n",
       "      <th></th>\n",
       "      <th>rank</th>\n",
       "      <th>suit</th>\n",
       "      <th>image</th>\n",
       "    </tr>\n",
       "  </thead>\n",
       "  <tbody>\n",
       "    <tr>\n",
       "      <th>0</th>\n",
       "      <td>Q</td>\n",
       "      <td>S</td>\n",
       "      <td>[[0.7374045377275249, 0.7353642493485804, 0.73...</td>\n",
       "    </tr>\n",
       "    <tr>\n",
       "      <th>1</th>\n",
       "      <td>8</td>\n",
       "      <td>H</td>\n",
       "      <td>[[0.7246389496516452, 0.7241287553848418, 0.72...</td>\n",
       "    </tr>\n",
       "    <tr>\n",
       "      <th>2</th>\n",
       "      <td>J</td>\n",
       "      <td>H</td>\n",
       "      <td>[[0.7858449449682893, 0.7854452166625326, 0.78...</td>\n",
       "    </tr>\n",
       "    <tr>\n",
       "      <th>3</th>\n",
       "      <td>0</td>\n",
       "      <td>S</td>\n",
       "      <td>[[0.7337403886006049, 0.7341374836873047, 0.73...</td>\n",
       "    </tr>\n",
       "    <tr>\n",
       "      <th>4</th>\n",
       "      <td>5</td>\n",
       "      <td>S</td>\n",
       "      <td>[[0.7297011465810356, 0.7287990243210922, 0.72...</td>\n",
       "    </tr>\n",
       "  </tbody>\n",
       "</table>\n",
       "</div>"
      ],
      "text/plain": [
       "  rank suit                                              image\n",
       "0    Q    S  [[0.7374045377275249, 0.7353642493485804, 0.73...\n",
       "1    8    H  [[0.7246389496516452, 0.7241287553848418, 0.72...\n",
       "2    J    H  [[0.7858449449682893, 0.7854452166625326, 0.78...\n",
       "3    0    S  [[0.7337403886006049, 0.7341374836873047, 0.73...\n",
       "4    5    S  [[0.7297011465810356, 0.7287990243210922, 0.72..."
      ]
     },
     "execution_count": 4,
     "metadata": {},
     "output_type": "execute_result"
    }
   ],
   "source": [
    "imgs = [v[-1] for v in values]\n",
    "ranks = [v[0][0] for v in values]\n",
    "suits = [v[0][1] for v in values]\n",
    "\n",
    "df_task0 = pd.DataFrame({\"rank\": ranks, \"suit\": suits, \"image\": imgs})\n",
    "df_task0.head()"
   ]
  },
  {
   "cell_type": "code",
   "execution_count": 5,
   "id": "communist-humanitarian",
   "metadata": {},
   "outputs": [],
   "source": [
    "df_numbers_only = df_task0[~df_task0['rank'].isin(['Q', 'J', 'K'])]"
   ]
  },
  {
   "cell_type": "code",
   "execution_count": 11,
   "id": "historical-constitutional",
   "metadata": {},
   "outputs": [],
   "source": [
    "def preprocess_segmented_task0(img):\n",
    "    inverted = img_as_ubyte(skimage.util.invert(img))\n",
    "    _, binary = cv2.threshold(inverted, 100, 120, cv2.THRESH_BINARY)\n",
    "    blurred = cv2.GaussianBlur(binary, (3,3), 0)\n",
    "\n",
    "    return blurred"
   ]
  },
  {
   "cell_type": "code",
   "execution_count": 7,
   "id": "fallen-lecture",
   "metadata": {},
   "outputs": [
    {
     "data": {
      "text/plain": [
       "(-0.5, 27.5, 27.5, -0.5)"
      ]
     },
     "execution_count": 7,
     "metadata": {},
     "output_type": "execute_result"
    },
    {
     "data": {
      "image/png": "[encoded data removed]",
      "text/plain": [
       "<Figure size 360x216 with 1 Axes>"
      ]
     },
     "metadata": {
      "needs_background": "light"
     },
     "output_type": "display_data"
    }
   ],
   "source": [
    "img = ca_deconne.image[4]\n",
    "inverted = img_as_ubyte(skimage.util.invert(img))\n",
    "_, binary = cv2.threshold(inverted, 100, 120, cv2.THRESH_BINARY)\n",
    "blurred = cv2.GaussianBlur(binary, (3,3), 0)\n",
    "\n",
    "fig, ax = plt.subplots(1, 4, figsize=(5, 3))\n",
    "\n",
    "ax[0].imshow(img, cmap='gray')\n",
    "ax[1].imshow(inverted, cmap='gray')\n",
    "ax[2].imshow(binary, cmap='gray')\n",
    "ax[3].imshow(blurred, cmap='gray')\n",
    "\n",
    "ax[0].axis('off')\n",
    "ax[1].axis('off')\n",
    "ax[2].axis('off')\n",
    "ax[3].axis('off')\n",
    "\n",
    "plt.show()"
   ]
  },
  {
   "cell_type": "code",
   "execution_count": 9,
   "id": "graduate-cotton",
   "metadata": {
    "scrolled": true
   },
   "outputs": [
    {
     "data": {
      "image/png": "[encoded data removed]",
      "text/plain": [
       "<Figure size 432x288 with 1 Axes>"
      ]
     },
     "metadata": {
      "needs_background": "light"
     },
     "output_type": "display_data"
    }
   ],
   "source": [
    "# Display the histogram of the image\n",
    "hist, hist_centers = histogram(inverted)\n",
    "plt.plot(hist)\n",
    "plt.title(\"Histogram of the Gaussian Blurred Gray\")\n",
    "plt.xlabel(\"intensity [grayscale]\")\n",
    "plt.ylabel(\"number of pixels\")\n",
    "plt.show()"
   ]
  },
  {
   "cell_type": "markdown",
   "id": "excess-forestry",
   "metadata": {},
   "source": [
    "## Ranks that are not numbers"
   ]
  },
  {
   "cell_type": "code",
   "execution_count": 39,
   "id": "worse-gamma",
   "metadata": {},
   "outputs": [],
   "source": [
    "df_not_numbers = df_task0[df_task0['rank'].isin(['Q', 'J', 'K'])]"
   ]
  },
  {
   "cell_type": "code",
   "execution_count": 40,
   "id": "controversial-blair",
   "metadata": {},
   "outputs": [],
   "source": [
    "kings = df_not_numbers[df_not_numbers['rank'] == 'K'].reset_index(drop=True)\n",
    "queens = df_not_numbers[df_not_numbers['rank'] == 'Q'].reset_index(drop=True)\n",
    "jacks = df_not_numbers[df_not_numbers['rank'] == 'J'].reset_index(drop=True)"
   ]
  },
  {
   "cell_type": "code",
   "execution_count": null,
   "id": "victorian-trust",
   "metadata": {},
   "outputs": [],
   "source": []
  },
  {
   "cell_type": "markdown",
   "id": "abandoned-dollar",
   "metadata": {},
   "source": [
    "# Data loader and augmentation"
   ]
  },
  {
   "cell_type": "code",
   "execution_count": 16,
   "id": "elder-situation",
   "metadata": {},
   "outputs": [],
   "source": [
    "def augment_data(data, transform):\n",
    "    augmented_imgs = []\n",
    "    for img in data:\n",
    "        augmented = skimage.img_as_ubyte(transform_aug(img)).reshape(image_shape)\n",
    "        augmented_imgs.append(augmented)\n",
    "        \n",
    "    return np.array(augmented_imgs)"
   ]
  },
  {
   "cell_type": "code",
   "execution_count": 18,
   "id": "faced-martial",
   "metadata": {},
   "outputs": [],
   "source": [
    "transform_aug = transforms.Compose(\n",
    "            [\n",
    "                transforms.ToPILImage(),\n",
    "                transforms.RandomAffine(degrees=25, scale=(0.8, 1.1), shear=20),\n",
    "                transforms.ToTensor(),\n",
    "            ]\n",
    "        )\n",
    "\n",
    "augmented_train = augment_data(train_images, transform_aug)"
   ]
  },
  {
   "cell_type": "code",
   "execution_count": 19,
   "id": "impressed-boulder",
   "metadata": {},
   "outputs": [],
   "source": [
    "class MNISTDataset(data.Dataset):\n",
    "    def __init__(self, imgs, labels, transform):\n",
    "        self.imgs = imgs\n",
    "        self.labels = labels\n",
    "        self.transform = transform\n",
    "\n",
    "    def __len__(self):\n",
    "        return len(self.imgs)\n",
    "\n",
    "    def __getitem__(self, idx):\n",
    "        data = self.imgs[idx]\n",
    "        if self.transform:\n",
    "            data = self.transform(data)\n",
    "        return (data, self.labels[idx])"
   ]
  },
  {
   "cell_type": "code",
   "execution_count": 20,
   "id": "adequate-designation",
   "metadata": {},
   "outputs": [],
   "source": [
    "# Parameters of our DataLoader\n",
    "params = {'batch_size': 128,\n",
    "          'shuffle': True}\n",
    "\n",
    "# Creation of a train/test dataset & dataloader\n",
    "train_merged_images = np.concatenate((train_images, augmented_train))\n",
    "train_merged_labels = np.concatenate((train_labels, train_labels))\n",
    "\n",
    "ds_train = MNISTDataset(train_merged_images, train_merged_labels, transform=transforms.ToTensor())\n",
    "dl_train = data.DataLoader(ds_train, **params)\n",
    "\n",
    "ds_test = MNISTDataset(test_images, test_labels, transform=transforms.ToTensor())\n",
    "dl_test = data.DataLoader(ds_test, **params)"
   ]
  },
  {
   "cell_type": "code",
   "execution_count": null,
   "id": "judicial-batch",
   "metadata": {},
   "outputs": [],
   "source": [
    "to_test = np.array([v for v in df_numbers_only.image.apply(preprocess_result_task0)])\n",
    "\n",
    "ds_test_task0 = MNISTDataset(to_test, df_numbers_only['rank'].to_numpy().astype(np.int64), \n",
    "                             transform=transforms.ToTensor())\n",
    "dl_test_task0 = data.DataLoader(ds_test_task0, **params)"
   ]
  },
  {
   "cell_type": "markdown",
   "id": "animal-radar",
   "metadata": {},
   "source": [
    "# Model"
   ]
  },
  {
   "cell_type": "markdown",
   "id": "improving-registration",
   "metadata": {},
   "source": [
    "### ResNet"
   ]
  },
  {
   "cell_type": "code",
   "execution_count": 21,
   "id": "bizarre-passion",
   "metadata": {},
   "outputs": [],
   "source": [
    "# model = resnet18(num_classes=10)\n",
    "# model.conv1 = nn.Conv2d(1, 64, kernel_size=(7, 7), stride=(2, 2), padding=(3, 3), bias=False)"
   ]
  },
  {
   "cell_type": "markdown",
   "id": "fiscal-experience",
   "metadata": {},
   "source": [
    "### CNN 1"
   ]
  },
  {
   "cell_type": "code",
   "execution_count": 22,
   "id": "isolated-sacramento",
   "metadata": {},
   "outputs": [],
   "source": [
    "# defining the model architecture\n",
    "class Net1(nn.Module):   \n",
    "    def __init__(self):\n",
    "        super(Net1, self).__init__()\n",
    "\n",
    "        self.cnn_layers = nn.Sequential(\n",
    "          # Defining first 2D convolution layer\n",
    "          nn.Conv2d(1, 4, kernel_size=3, stride=1, padding=1),\n",
    "          nn.ReLU(inplace=True),\n",
    "          nn.MaxPool2d(kernel_size=2, stride=2),\n",
    "          # Defining second 2D convolution layer\n",
    "          nn.Conv2d(4, 4, kernel_size=3, stride=1, padding=1),\n",
    "          nn.ReLU(inplace=True),\n",
    "          nn.MaxPool2d(kernel_size=2, stride=2),\n",
    "        )\n",
    "\n",
    "        self.linear_layers = nn.Sequential(\n",
    "          nn.Linear(4 * 7 * 7, 10)\n",
    "        )\n",
    "\n",
    "    # Defining the forward pass    \n",
    "    def forward(self, x):\n",
    "        x = self.cnn_layers(x)\n",
    "        x = x.view(x.size(0), -1)\n",
    "        x = self.linear_layers(x)\n",
    "        return x"
   ]
  },
  {
   "cell_type": "code",
   "execution_count": 23,
   "id": "extreme-attribute",
   "metadata": {},
   "outputs": [],
   "source": [
    "model1 = Net()"
   ]
  },
  {
   "cell_type": "markdown",
   "id": "helpful-checkout",
   "metadata": {},
   "source": [
    "### CNN 2"
   ]
  },
  {
   "cell_type": "code",
   "execution_count": 24,
   "id": "introductory-monaco",
   "metadata": {},
   "outputs": [],
   "source": [
    "class Net2(nn.Module):\n",
    "    def __init__(self):\n",
    "        super(Net2, self).__init__()\n",
    "        self.conv1 = nn.Conv2d(1, 20, 5, 1)\n",
    "        self.conv2 = nn.Conv2d(20, 50, 5, 1)\n",
    "        self.fc1 = nn.Linear(4*4*50, 500)\n",
    "        self.fc2 = nn.Linear(500, 10)\n",
    "\n",
    "    def forward(self, x):\n",
    "        x = F.relu(self.conv1(x))\n",
    "        x = F.max_pool2d(x, 2, 2)\n",
    "        x = F.relu(self.conv2(x))\n",
    "        x = F.max_pool2d(x, 2, 2)\n",
    "        x = x.view(-1, 4*4*50)\n",
    "        x = F.relu(self.fc1(x))\n",
    "        x = self.fc2(x)\n",
    "        return F.log_softmax(x, dim=1)"
   ]
  },
  {
   "cell_type": "code",
   "execution_count": 25,
   "id": "sexual-church",
   "metadata": {},
   "outputs": [],
   "source": [
    "model2 = Net2()"
   ]
  },
  {
   "cell_type": "markdown",
   "id": "strong-preservation",
   "metadata": {},
   "source": [
    "### CNN 3"
   ]
  },
  {
   "cell_type": "code",
   "execution_count": 33,
   "id": "hourly-graph",
   "metadata": {},
   "outputs": [],
   "source": [
    "# Create CNN Model\n",
    "class Net3(nn.Module):\n",
    "    def __init__(self):\n",
    "        super(Net3, self).__init__()\n",
    "        # Convolution 1\n",
    "        self.cnn1 = nn.Conv2d(in_channels=1, out_channels=16, kernel_size=3, stride=1, padding=0)\n",
    "        self.relu1 = nn.ReLU()\n",
    "        self.maxpool1 = nn.MaxPool2d(kernel_size=2)\n",
    "     \n",
    "        # Convolution 2\n",
    "        self.cnn2 = nn.Conv2d(in_channels=16, out_channels=32, kernel_size=3, stride=1, padding=0)\n",
    "        self.relu2 = nn.ReLU()\n",
    "        self.maxpool2 = nn.MaxPool2d(kernel_size=2)\n",
    "        \n",
    "        # Fully connected 1\n",
    "        self.fc1 = nn.Linear(32 * 5 * 5, 10) \n",
    "    \n",
    "    def forward(self, x):\n",
    "        # Set 1\n",
    "        out = self.cnn1(x)\n",
    "        out = self.relu1(out)\n",
    "        out = self.maxpool1(out)\n",
    "        \n",
    "        # Set 2\n",
    "        out = self.cnn2(out)\n",
    "        out = self.relu2(out)\n",
    "        out = self.maxpool2(out)\n",
    "        \n",
    "        #Flatten\n",
    "        out = out.view(out.size(0), -1)\n",
    "\n",
    "        #Dense\n",
    "        out = self.fc1(out)\n",
    "        \n",
    "        return out"
   ]
  },
  {
   "cell_type": "code",
   "execution_count": 34,
   "id": "editorial-fault",
   "metadata": {},
   "outputs": [],
   "source": [
    "model3 = Net3()"
   ]
  },
  {
   "cell_type": "markdown",
   "id": "corrected-break",
   "metadata": {},
   "source": [
    "## Training"
   ]
  },
  {
   "cell_type": "code",
   "execution_count": 36,
   "id": "practical-cooler",
   "metadata": {},
   "outputs": [],
   "source": [
    "# Loss function\n",
    "criterion = nn.CrossEntropyLoss()\n",
    "\n",
    "# Optimizer\n",
    "learning_rate = 1e-3\n",
    "opt = torch.optim.Adam(model2.parameters(), lr=learning_rate)"
   ]
  },
  {
   "cell_type": "code",
   "execution_count": 37,
   "id": "practical-leonard",
   "metadata": {},
   "outputs": [],
   "source": [
    "def train_loop(dataloader, model, loss_func, optimizer):\n",
    "    for it, (X, y) in enumerate(dataloader):\n",
    "        \n",
    "        # Compute prediction and loss\n",
    "        pred = model(X)            # Forward pass\n",
    "        loss = loss_func(pred, y)  # Compute the loss\n",
    "\n",
    "        # Backpropagation\n",
    "        optimizer.zero_grad()      # Reinitialise the accumulated gradients\n",
    "        loss.backward()            # Recompute the new gradients\n",
    "        optimizer.step()           # Update the parameters of the model\n",
    "        \n",
    "        # Compute the accuracy on this batch of images\n",
    "        accuracy_tr = (pred.argmax(1) == y).type(torch.float).sum().item() / len(X)\n",
    "        \n",
    "        #if (it+1 == len(dataloader)):\n",
    "        print('It {}/{}:\\tLoss train: {:.5f}, Accuracy train: {:.2%}'.\n",
    "              format(it + 1, len(dataloader), loss, accuracy_tr), end='\\r')\n",
    "    print()\n",
    "    \n",
    "def test_loop(dataloader, model, loss_func):\n",
    "    size = len(dataloader.dataset)\n",
    "    test_loss, accuracy = 0, 0\n",
    "\n",
    "    with torch.no_grad():\n",
    "        for X, y in dataloader:\n",
    "            pred = model(X)\n",
    "            test_loss += loss_func(pred, y).item()\n",
    "            accuracy += (pred.argmax(1) == y).type(torch.float).sum().item()\n",
    "\n",
    "    # Statistics over all the batchs\n",
    "    test_loss /= size\n",
    "    accuracy /= size    \n",
    "    \n",
    "    print(f\"Test Error:\\n\\tAvg loss: {test_loss:.5f}, Accuracy: {accuracy:.2%}\\n\")"
   ]
  },
  {
   "cell_type": "code",
   "execution_count": 38,
   "id": "engaging-mumbai",
   "metadata": {
    "scrolled": false
   },
   "outputs": [
    {
     "name": "stdout",
     "output_type": "stream",
     "text": [
      "Epoch 1\n",
      "-------------------------------\n",
      "It 938/938:\tLoss train: 0.04257, Accuracy train: 98.44%%\n",
      "Test Error:\n",
      "\tAvg loss: 0.00033, Accuracy: 98.62%\n",
      "\n",
      "Epoch 2\n",
      "-------------------------------\n",
      "It 938/938:\tLoss train: 0.00696, Accuracy train: 100.00%\n",
      "Test Error:\n",
      "\tAvg loss: 0.00031, Accuracy: 98.86%\n",
      "\n",
      "Epoch 3\n",
      "-------------------------------\n",
      "It 938/938:\tLoss train: 0.02127, Accuracy train: 98.44%%\n",
      "Test Error:\n",
      "\tAvg loss: 0.00022, Accuracy: 98.97%\n",
      "\n",
      "Epoch 4\n",
      "-------------------------------\n",
      "It 938/938:\tLoss train: 0.01927, Accuracy train: 98.44%%\n",
      "Test Error:\n",
      "\tAvg loss: 0.00016, Accuracy: 99.33%\n",
      "\n",
      "Epoch 5\n",
      "-------------------------------\n",
      "It 938/938:\tLoss train: 0.00016, Accuracy train: 100.00%\n",
      "Test Error:\n",
      "\tAvg loss: 0.00020, Accuracy: 99.26%\n",
      "\n",
      "Epoch 6\n",
      "-------------------------------\n",
      "It 938/938:\tLoss train: 0.04309, Accuracy train: 98.44%%\n",
      "Test Error:\n",
      "\tAvg loss: 0.00021, Accuracy: 99.31%\n",
      "\n",
      "Epoch 7\n",
      "-------------------------------\n",
      "It 938/938:\tLoss train: 0.02774, Accuracy train: 100.00%\n",
      "Test Error:\n",
      "\tAvg loss: 0.00021, Accuracy: 99.12%\n",
      "\n"
     ]
    }
   ],
   "source": [
    "epochs = 7\n",
    "\n",
    "# Train & test our model until convergence (here 15 epochs is sufficient as we don't have too many parameters)\n",
    "for e in range(epochs):\n",
    "    print(f\"Epoch {e+1}\\n-------------------------------\")\n",
    "    train_loop(dl_train, model2, criterion, opt)\n",
    "    test_loop(dl_test, model2, criterion)"
   ]
  },
  {
   "cell_type": "code",
   "execution_count": 41,
   "id": "cosmetic-causing",
   "metadata": {},
   "outputs": [],
   "source": [
    "to_test = np.array([v for v in df_numbers_only.image.apply(preprocess_result_task0)])\n",
    "ds_test_task0 = MNISTDataset(to_test, df_numbers_only['rank'].to_numpy().astype(np.int64), \n",
    "                             transform=transforms.ToTensor())\n",
    "dl_test_task0 = data.DataLoader(ds_test_task0, **params)"
   ]
  },
  {
   "cell_type": "code",
   "execution_count": 43,
   "id": "checked-feeling",
   "metadata": {
    "scrolled": true
   },
   "outputs": [
    {
     "name": "stdout",
     "output_type": "stream",
     "text": [
      "Test Error:\n",
      "\tAvg loss: 0.00659, Accuracy: 75.99%\n",
      "\n"
     ]
    }
   ],
   "source": [
    "test_loop(dl_test_task0, model2, criterion)"
   ]
  },
  {
   "cell_type": "code",
   "execution_count": null,
   "id": "determined-cricket",
   "metadata": {},
   "outputs": [],
   "source": []
  }
 ],
 "metadata": {
  "kernelspec": {
   "display_name": "Python [conda env:iapr] *",
   "language": "python",
   "name": "conda-env-iapr-py"
  },
  "language_info": {
   "codemirror_mode": {
    "name": "ipython",
    "version": 3
   },
   "file_extension": ".py",
   "mimetype": "text/x-python",
   "name": "python",
   "nbconvert_exporter": "python",
   "pygments_lexer": "ipython3",
   "version": "3.8.8"
  }
 },
 "nbformat": 4,
 "nbformat_minor": 5
}
